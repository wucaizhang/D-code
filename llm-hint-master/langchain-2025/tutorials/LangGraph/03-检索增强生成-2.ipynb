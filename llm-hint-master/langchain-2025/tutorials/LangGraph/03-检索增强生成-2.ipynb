{
 "cells": [
  {
   "cell_type": "markdown",
   "id": "0a263d22-1eeb-4819-9196-1db1befecd7d",
   "metadata": {},
   "source": [
    "# 检索增强生成（Retrieval Augmented Generation, RAG）第 2 部分：  \n",
    "> 构建一个结合用户交互记忆和多步骤检索的 RAG 应用程序。\n",
    "\n",
    "### 构建一个检索增强生成（RAG）应用程序：第 2 部分\n",
    "\n",
    "在许多问答（Q&A）应用中，我们希望用户能够进行**来回对话**。这意味着应用程序需要具备某种形式的“记忆”功能，记录过去的提问与回答，并将这些信息纳入当前的思考逻辑中。\n",
    "\n",
    "这是本系列教程的第二部分：\n",
    "\n",
    "- **第 1 部分**：介绍了 RAG 的基本概念，并演示了一个最小可行实现。\n",
    "- **第 2 部分（本指南）**：扩展了该实现，使其支持**对话式交互**和**多步骤检索流程**。\n",
    "\n",
    "在本部分中，我们将重点介绍如何加入**历史消息处理逻辑**，即管理聊天记录（chat history）。\n",
    "\n",
    "---\n",
    "\n",
    "我们将介绍两种主要实现方式：\n",
    "\n",
    "#### 1. 使用 Chains（链式调用）\n",
    "在这种方法中，最多只执行一次检索操作。它适用于结构较为固定的流程。\n",
    "\n",
    "#### 2. 使用 Agents（智能体）\n",
    "这种方法赋予语言模型（LLM）更大的自主权，使其可以根据需要执行**多个检索步骤**，从而更灵活地处理复杂问题。\n",
    "\n",
    "> 💡 **注意**：  \n",
    "本节所使用的方法依赖于现代聊天模型中的 **工具调用（tool calling）** 功能。  \n",
    "\n",
    "---\n",
    "\n",
    "### 数据源说明\n",
    "\n",
    "为了提供外部知识支持，我们将继续使用第 1 部分中使用的那篇博客文章 —— [**中小企业出海对接交流会**](https://gyxxh.tj.gov.cn/glllm/gabsycs/gxdtgh/202504/t20250408_6902492.html)。\n",
    "\n",
    "### 我们首先回顾一下在第 1 部分中构建的向量数据库（vector store）。"
   ]
  },
  {
   "cell_type": "code",
   "execution_count": 1,
   "id": "a880bbe6-78b7-4056-95bd-e8e3f236f01a",
   "metadata": {},
   "outputs": [],
   "source": [
    "import getpass\n",
    "import os\n",
    "\n",
    "try:\n",
    "    # load environment variables from .env file (requires `python-dotenv`)\n",
    "    from dotenv import load_dotenv\n",
    "\n",
    "    _ = load_dotenv()\n",
    "except ImportError:\n",
    "    pass\n",
    "\n",
    "if not os.environ.get(\"DASHSCOPE_API_KEY\"):\n",
    "  os.environ[\"DASHSCOPE_API_KEY\"] = getpass.getpass(\"Enter API key for OpenAI: \")"
   ]
  },
  {
   "cell_type": "code",
   "execution_count": 2,
   "id": "af2b6aa7-e0df-42ff-933a-b7c5f33ba891",
   "metadata": {},
   "outputs": [],
   "source": [
    "from langchain_community.chat_models.tongyi import ChatTongyi\n",
    "\n",
    "llm  = ChatTongyi(\n",
    "    streaming=True,\n",
    "    name=\"qwen-turbo\"\n",
    ")"
   ]
  },
  {
   "cell_type": "code",
   "execution_count": 3,
   "id": "9265912d-3c45-4321-b3a8-065f4396b09c",
   "metadata": {},
   "outputs": [],
   "source": [
    "from langchain_community.embeddings.dashscope import DashScopeEmbeddings\n",
    "# 初始化 Qwen Embedding 模型\n",
    "embeddings = DashScopeEmbeddings(model=\"text-embedding-v1\")  "
   ]
  },
  {
   "cell_type": "code",
   "execution_count": 4,
   "id": "7159eb33-4a79-47f5-bf4f-4cae066e7dda",
   "metadata": {},
   "outputs": [],
   "source": [
    "from langchain_core.vectorstores import InMemoryVectorStore\n",
    "\n",
    "vector_store = InMemoryVectorStore(embeddings)"
   ]
  },
  {
   "cell_type": "code",
   "execution_count": 5,
   "id": "4e448c09-7a5e-4721-ae68-005d01e7998e",
   "metadata": {},
   "outputs": [
    {
     "name": "stderr",
     "output_type": "stream",
     "text": [
      "USER_AGENT environment variable not set, consider setting it to identify your requests.\n"
     ]
    }
   ],
   "source": [
    "import bs4\n",
    "from langchain import hub\n",
    "from langchain_community.document_loaders import WebBaseLoader\n",
    "from langchain_core.documents import Document\n",
    "from langchain_text_splitters import RecursiveCharacterTextSplitter\n",
    "from typing_extensions import List, TypedDict\n",
    "\n",
    "# Load and chunk contents of the blog\n",
    "loader = WebBaseLoader(\n",
    "    web_paths=(\"https://gyxxh.tj.gov.cn/glllm/gabsycs/gxdtgh/202504/t20250408_6902492.html\",),\n",
    "    bs_kwargs=dict(\n",
    "        parse_only=bs4.SoupStrainer(\n",
    "            class_=(\"view-wrap\")\n",
    "        )\n",
    "    ),\n",
    ")\n",
    "docs = loader.load()\n",
    "\n",
    "text_splitter = RecursiveCharacterTextSplitter(chunk_size=1000, chunk_overlap=200)\n",
    "all_splits = text_splitter.split_documents(docs)"
   ]
  },
  {
   "cell_type": "code",
   "execution_count": 6,
   "id": "ce698cb7-74c2-4367-9571-f6db8b9179cc",
   "metadata": {},
   "outputs": [],
   "source": [
    "# Index chunks\n",
    "_ = vector_store.add_documents(documents=all_splits)"
   ]
  },
  {
   "cell_type": "markdown",
   "id": "121075fe-4070-4f5e-82a8-94698737db9c",
   "metadata": {},
   "source": [
    "在 RAG 教程的第 1 部分中，我们将用户输入、检索到的上下文以及生成的回答分别作为状态中的独立键来表示。\n",
    "\n",
    "而在对话式应用场景中，使用**消息序列（sequence of messages）** 可以更自然地表达交互过程。除了用户的输入（User）和助手的回复（Assistant）之外，检索到的文档和其他中间结果也可以通过 **工具消息（ToolMessage）** 的形式插入到消息序列中。\n",
    "\n",
    "这促使我们使用一个**消息序列**来表示 RAG 应用的状态。具体来说，我们的消息结构将包括：\n",
    "\n",
    "- 用户输入：`HumanMessage`\n",
    "- 向量数据库查询：带有工具调用的 `AIMessage`\n",
    "- 检索到的文档：`ToolMessage`\n",
    "- 最终回复：`AIMessage`\n",
    "\n",
    "这种状态表示方式非常灵活，因此 LangGraph 提供了一个**内置版本**来简化这一流程，方便开发者直接使用。"
   ]
  },
  {
   "cell_type": "code",
   "execution_count": 7,
   "id": "4114cc43-f405-4ac6-8ad3-d16abed9f47e",
   "metadata": {},
   "outputs": [],
   "source": [
    "from langgraph.graph import MessagesState, StateGraph\n",
    "\n",
    "graph_builder = StateGraph(MessagesState)"
   ]
  },
  {
   "cell_type": "markdown",
   "id": "9014967d-2dea-46f7-916b-f1f56de74e69",
   "metadata": {},
   "source": [
    "利用**工具调用（tool-calling）** 来与检索步骤进行交互还有一个额外的好处：即检索所使用的查询是由我们的语言模型生成的。这一点在**对话式场景**中尤为重要，因为用户的提问可能需要根据聊天历史进行上下文化理解（contextualization）。例如，考虑以下对话：\n",
    "\n",
    "---\n",
    "\n",
    "**用户**： “什么是任务分解（Task Decomposition）？”\n",
    "\n",
    "**AI**： “任务分解是指将复杂的任务拆分成更小、更简单的步骤，从而使智能体或模型更容易处理。”\n",
    "\n",
    "**用户**： “常见的实现方式有哪些？”\n",
    "\n",
    "---\n",
    "\n",
    "在这种情况下，模型可以自动生成一个检索查询，例如 `\"common approaches to task decomposition\"`（任务分解的常见方法）。而 **工具调用机制** 可以非常自然地支持这一行为。\n",
    "\n",
    "正如在 RAG 教程的“查询分析”部分所提到的那样，这种方式允许模型将用户的原始问题重写为更高效的搜索查询。同时，它也支持**无需检索步骤的直接回答**（例如，当用户发送的是通用问候语时）。\n",
    "\n",
    "---\n",
    "\n",
    "### 现在，让我们将检索步骤封装为一个工具："
   ]
  },
  {
   "cell_type": "code",
   "execution_count": 8,
   "id": "c5ac197e-663f-44a1-8a4a-66b3a16ff027",
   "metadata": {},
   "outputs": [],
   "source": [
    "from langchain_core.tools import tool\n",
    "\n",
    "\n",
    "@tool(response_format=\"content_and_artifact\")\n",
    "def retrieve(query: str):\n",
    "    \"\"\"Retrieve information related to a query.\"\"\"\n",
    "    retrieved_docs = vector_store.similarity_search(query, k=2)\n",
    "    serialized = \"\\n\\n\".join(\n",
    "        (f\"Source: {doc.metadata}\\n\" f\"Content: {doc.page_content}\")\n",
    "        for doc in retrieved_docs\n",
    "    )\n",
    "    return serialized, retrieved_docs"
   ]
  },
  {
   "cell_type": "markdown",
   "id": "36054f4a-4b5c-42bf-8df3-d30fa89888af",
   "metadata": {},
   "source": [
    "我们的图（Graph）将包含三个节点：\n",
    "\n",
    "1. **处理用户输入的节点**：该节点会分析用户的提问，决定是为检索器生成一个查询语句，还是直接做出回应；\n",
    "2. **检索工具节点**：该节点负责执行实际的检索步骤；\n",
    "3. **生成最终回答的节点**：使用检索到的上下文信息，生成最终的自然语言回复。\n",
    "\n",
    "我们将在下方构建这三个节点。请注意，我们会使用 LangGraph 提供的另一个预构建组件 **`ToolNode`**，它能够自动执行工具调用，并将结果作为 `ToolMessage` 添加到当前的状态（State）中。"
   ]
  },
  {
   "cell_type": "code",
   "execution_count": 9,
   "id": "06f53d48-4864-4148-9bca-786370feb0da",
   "metadata": {},
   "outputs": [],
   "source": [
    "from langchain_core.messages import SystemMessage\n",
    "from langgraph.prebuilt import ToolNode\n",
    "\n",
    "\n",
    "# Step 1: Generate an AIMessage that may include a tool-call to be sent.\n",
    "def query_or_respond(state: MessagesState):\n",
    "    \"\"\"Generate tool call for retrieval or respond.\"\"\"\n",
    "    llm_with_tools = llm.bind_tools([retrieve])\n",
    "    response = llm_with_tools.invoke(state[\"messages\"])\n",
    "    # MessagesState appends messages to state instead of overwriting\n",
    "    return {\"messages\": [response]}\n",
    "\n",
    "\n",
    "# Step 2: Execute the retrieval.\n",
    "tools = ToolNode([retrieve])\n",
    "\n",
    "\n",
    "# Step 3: Generate a response using the retrieved content.\n",
    "def generate(state: MessagesState):\n",
    "    \"\"\"Generate answer.\"\"\"\n",
    "    # Get generated ToolMessages\n",
    "    recent_tool_messages = []\n",
    "    for message in reversed(state[\"messages\"]):\n",
    "        if message.type == \"tool\":\n",
    "            recent_tool_messages.append(message)\n",
    "        else:\n",
    "            break\n",
    "    tool_messages = recent_tool_messages[::-1]\n",
    "\n",
    "    # Format into prompt\n",
    "    docs_content = \"\\n\\n\".join(doc.content for doc in tool_messages)\n",
    "    system_message_content = (\n",
    "        \"You are an assistant for question-answering tasks. \"\n",
    "        \"Use the following pieces of retrieved context to answer \"\n",
    "        \"the question. If you don't know the answer, say that you \"\n",
    "        \"don't know. Use three sentences maximum and keep the \"\n",
    "        \"answer concise.\"\n",
    "        \"\\n\\n\"\n",
    "        f\"{docs_content}\"\n",
    "    )\n",
    "    conversation_messages = [\n",
    "        message\n",
    "        for message in state[\"messages\"]\n",
    "        if message.type in (\"human\", \"system\")\n",
    "        or (message.type == \"ai\" and not message.tool_calls)\n",
    "    ]\n",
    "    prompt = [SystemMessage(system_message_content)] + conversation_messages\n",
    "\n",
    "    # Run\n",
    "    response = llm.invoke(prompt)\n",
    "    return {\"messages\": [response]}"
   ]
  },
  {
   "cell_type": "markdown",
   "id": "801f5229-d8b6-4384-83b3-0770ba9b59c4",
   "metadata": {},
   "source": [
    "最后，我们将整个应用程序编译成一个**图对象（graph object）**。在本例中，我们只是将各个步骤按顺序连接起来形成一个流程。\n",
    "\n",
    "此外，我们还允许第一个步骤 `query_or_respond`（查询或回应）进行“短路”处理 —— 也就是说，如果它**没有生成工具调用（tool call）**，就可以直接向用户返回响应。\n",
    "\n",
    "这种设计使我们的应用程序能够更好地支持**对话式交互体验**，例如：  \n",
    "- 对不需要检索步骤的通用问候语（如“你好”、“谢谢”）做出直接回应；\n",
    "- 根据上下文判断是否需要执行检索，提升交互的灵活性和自然性。"
   ]
  },
  {
   "cell_type": "code",
   "execution_count": 10,
   "id": "9726047a-fdd5-4e22-a84f-e0a3538ea32a",
   "metadata": {},
   "outputs": [],
   "source": [
    "from langgraph.graph import END\n",
    "from langgraph.prebuilt import ToolNode, tools_condition\n",
    "\n",
    "graph_builder.add_node(query_or_respond)\n",
    "graph_builder.add_node(tools)\n",
    "graph_builder.add_node(generate)\n",
    "\n",
    "graph_builder.set_entry_point(\"query_or_respond\")\n",
    "graph_builder.add_conditional_edges(\n",
    "    \"query_or_respond\",\n",
    "    tools_condition,\n",
    "    {END: END, \"tools\": \"tools\"},\n",
    ")\n",
    "graph_builder.add_edge(\"tools\", \"generate\")\n",
    "graph_builder.add_edge(\"generate\", END)\n",
    "\n",
    "graph = graph_builder.compile()"
   ]
  },
  {
   "cell_type": "code",
   "execution_count": 11,
   "id": "f119004c-4bc3-4a41-b92c-9bd54b77809a",
   "metadata": {},
   "outputs": [
    {
     "data": {
      "image/png": "[encoded data removed]",
      "text/plain": [
       "<IPython.core.display.Image object>"
      ]
     },
     "metadata": {},
     "output_type": "display_data"
    }
   ],
   "source": [
    "from IPython.display import Image, display\n",
    "\n",
    "display(Image(graph.get_graph().draw_mermaid_png()))"
   ]
  },
  {
   "cell_type": "code",
   "execution_count": 12,
   "id": "7cda755b-73ab-4b3c-a34d-e3f3f242dd70",
   "metadata": {},
   "outputs": [
    {
     "name": "stdout",
     "output_type": "stream",
     "text": [
      "================================\u001b[1m Human Message \u001b[0m=================================\n",
      "\n",
      "你好\n",
      "==================================\u001b[1m Ai Message \u001b[0m==================================\n",
      "\n",
      "你好！有什么我可以帮助你的？\n"
     ]
    }
   ],
   "source": [
    "input_message = \"你好\"\n",
    "\n",
    "for step in graph.stream(\n",
    "    {\"messages\": [{\"role\": \"user\", \"content\": input_message}]},\n",
    "    stream_mode=\"values\",\n",
    "):\n",
    "    step[\"messages\"][-1].pretty_print()"
   ]
  },
  {
   "cell_type": "code",
   "execution_count": 13,
   "id": "bf211f21-e75f-4d70-9dfe-137a91268e46",
   "metadata": {},
   "outputs": [
    {
     "name": "stdout",
     "output_type": "stream",
     "text": [
      "================================\u001b[1m Human Message \u001b[0m=================================\n",
      "\n",
      "有多少家企业参加活动?\n",
      "==================================\u001b[1m Ai Message \u001b[0m==================================\n",
      "Tool Calls:\n",
      "  retrieve (call_8dd0ac83ac544e6cb7261acall_8dd0ac83ac544e6cb7261acall_8dd0ac83ac544e6cb7261acall_8dd0ac83ac544e6cb7261a)\n",
      " Call ID: call_8dd0ac83ac544e6cb7261acall_8dd0ac83ac544e6cb7261acall_8dd0ac83ac544e6cb7261acall_8dd0ac83ac544e6cb7261a\n",
      "  Args:\n",
      "    query: 参加活动的企业数量\n",
      "=================================\u001b[1m Tool Message \u001b[0m=================================\n",
      "Name: retrieve\n",
      "\n",
      "Source: {'source': 'https://gyxxh.tj.gov.cn/glllm/gabsycs/gxdtgh/202504/t20250408_6902492.html'}\n",
      "Content: 来源：\n",
      "          天津市工业和信息化局\n",
      "        \n",
      "发布时间：\n",
      "          2025-04-08 09:30\n",
      "        \n",
      "\n",
      "\n",
      "为深入贯彻党的二十届三中全会精神，落实《工业和信息化部办公厅关于开展中小企业出海服务专项行动的通知》及《工业和信息化部等17部门办公厅（室）关于开展2025年“一起益企”中小企业服务行动的通知》要求，进一步提升我市中小企业国际化水平和核心竞争力，助力中小企业开拓国际市场、增强风险防控能力，天津市中小企业服务中心于近日成功举办轻工产业链中小企业出海对接交流会。中国中小企业发展促进中心、天津市贸促会、天津市食品工业协会、天津市自行车电动车行业协会、武清区崔黄口镇商会，以及来自自行车、食品、地毯等领域的生产制造企业和进出口企业等20余家单位代表参加了活动。  会上，国家中心产业集群发展研究所负责同志围绕中小企业“走出去”万帆耘海行动的实施背景、主要任务及具体进展作了专题报告，深入解读了当前中小企业出海的趋势、政策支持及发展机遇，为参会企业提供了权威的政策指导和行动路径。市贸促会会展服务中心相关负责同志重点介绍了贸促会组织的境外展会项目及我市境外参展补贴政策，并结合热点国家的贸易环境、市场动态及政策导向，为企业提供了详实的出海信息及参展支持服务，助力企业精准把握国际市场机遇。活动主题引起与会企业的高度关注，现场交流、对接气氛热烈。近年来，在国家大力推进构建以国内大循环为主体、国内国际双循环相互促进的新发展格局背景下，越来越多的中小企业将海外业务视为推动企业增长的重要战略。但在全球化经营过程中，中小企业面临诸多挑战，由于缺乏出海的实战经验，境外抗风险能力较低，减缓了我市企业出海的步伐。市中小企业服务中心2024年起已着手为有出海需求的企业搭建资源共享、经验互通的平台；2025年中心启动的“中小企业出海系列活动”涵盖出海对接交流会、国际市场调研、境外展会参展支持等多元化服务。下一步，中心将聚焦中小企业出海需求，深化与各行业协会及专业服务机构的协同合作，完善中小企业出海服务体系，整合资源系统化提供政策解读、市场开拓、国际人才引进、管理提升、跨境金融、权益保护、数字化转型及检测认证等关键节点的服务对接，助力企业提升国际化能力。推动我市中小企业在全球市场中形成竞争新优势。\n",
      "\n",
      "Source: {'source': 'https://gyxxh.tj.gov.cn/glllm/gabsycs/gxdtgh/202504/t20250408_6902492.html'}\n",
      "Content: 工信动态\n",
      "          \n",
      "\n",
      "\n",
      "\n",
      "\n",
      "\n",
      "        天津市中小企业服务中心成功举办轻工 产业链中小企业出海对接交流会\n",
      "      \n",
      "\n",
      "来源：\n",
      "          天津市工业和信息化局\n",
      "        \n",
      "发布时间：\n",
      "          2025-04-08 09:30\n",
      "==================================\u001b[1m Ai Message \u001b[0m==================================\n",
      "\n",
      "共有20余家企业参加活动，包括生产制造企业和进出口企业等。\n"
     ]
    }
   ],
   "source": [
    "input_message = \"有多少家企业参加活动?\"\n",
    "\n",
    "for step in graph.stream(\n",
    "    {\"messages\": [{\"role\": \"user\", \"content\": input_message}]},\n",
    "    stream_mode=\"values\",\n",
    "):\n",
    "    step[\"messages\"][-1].pretty_print()"
   ]
  },
  {
   "cell_type": "markdown",
   "id": "bc3da923-4b3f-4084-b4f4-7ed6d9372207",
   "metadata": {},
   "source": [
    "### 聊天历史的状态化管理（Stateful Management of Chat History）\n",
    "\n",
    "\n",
    "\n",
    "### 在生产环境中\n",
    "\n",
    "在一个问答（Q&A）应用程序中，通常需要将聊天历史**持久化到数据库中**，并能够在后续交互中正确地读取和更新它。\n",
    "\n",
    "**LangGraph 提供了一个内置的持久化层（persistence layer）**，这使得它非常适合用于支持多轮对话的聊天应用。\n",
    "\n",
    "---\n",
    "\n",
    "### 如何实现？\n",
    "\n",
    "要支持多个对话轮次（turns）或多条对话线程（threads），我们只需在编译应用程序时指定一个 **checkpointer（检查点器）**。由于我们图中的各个节点都在向状态（state）中追加消息，因此我们可以在多次调用之间保留一致的聊天历史记录。\n",
    "\n",
    "LangGraph 自带了一个简单的**内存型 checkpointer**，我们在下面的示例中使用它。你也可以参考其[官方文档](https://example.com/checkpointer-docs)，了解更多关于使用其他持久化后端（如 SQLite 或 PostgreSQL）的方法。\n",
    "\n",
    "---\n",
    "\n",
    "### 示例代码（使用内存型 Checkpointer）\n",
    "\n",
    "```python\n",
    "from langgraph.checkpoint.memory import MemorySaver\n",
    "from langgraph.graph import StateGraph\n",
    "\n",
    "# 创建一个内存保存器\n",
    "checkpointer = MemorySaver()\n",
    "\n",
    "# 编译图并启用持久化\n",
    "app = graph.compile(checkpointer=checkpointer)\n",
    "```"
   ]
  },
  {
   "cell_type": "code",
   "execution_count": 14,
   "id": "87359297-9b8b-4438-8e4d-123121e9f4b9",
   "metadata": {},
   "outputs": [],
   "source": [
    "from langgraph.checkpoint.memory import MemorySaver\n",
    "\n",
    "memory = MemorySaver()\n",
    "graph = graph_builder.compile(checkpointer=memory)\n",
    "\n",
    "# Specify an ID for the thread\n",
    "config = {\"configurable\": {\"thread_id\": \"abc123\"}}"
   ]
  },
  {
   "cell_type": "code",
   "execution_count": 15,
   "id": "8f3da989-951c-4a00-80b7-517bbc1b60ca",
   "metadata": {},
   "outputs": [
    {
     "name": "stdout",
     "output_type": "stream",
     "text": [
      "================================\u001b[1m Human Message \u001b[0m=================================\n",
      "\n",
      "文章发布的时间?\n",
      "==================================\u001b[1m Ai Message \u001b[0m==================================\n",
      "Tool Calls:\n",
      "  retrieve (call_7d018350d2144375952f55call_7d018350d2144375952f55call_7d018350d2144375952f55call_7d018350d2144375952f55)\n",
      " Call ID: call_7d018350d2144375952f55call_7d018350d2144375952f55call_7d018350d2144375952f55call_7d018350d2144375952f55\n",
      "  Args:\n",
      "    query: 发布日期\n",
      "=================================\u001b[1m Tool Message \u001b[0m=================================\n",
      "Name: retrieve\n",
      "\n",
      "Source: {'source': 'https://gyxxh.tj.gov.cn/glllm/gabsycs/gxdtgh/202504/t20250408_6902492.html'}\n",
      "Content: 工信动态\n",
      "          \n",
      "\n",
      "\n",
      "\n",
      "\n",
      "\n",
      "        天津市中小企业服务中心成功举办轻工 产业链中小企业出海对接交流会\n",
      "      \n",
      "\n",
      "来源：\n",
      "          天津市工业和信息化局\n",
      "        \n",
      "发布时间：\n",
      "          2025-04-08 09:30\n",
      "\n",
      "Source: {'source': 'https://gyxxh.tj.gov.cn/glllm/gabsycs/gxdtgh/202504/t20250408_6902492.html'}\n",
      "Content: 来源：\n",
      "          天津市工业和信息化局\n",
      "        \n",
      "发布时间：\n",
      "          2025-04-08 09:30\n",
      "        \n",
      "\n",
      "\n",
      "为深入贯彻党的二十届三中全会精神，落实《工业和信息化部办公厅关于开展中小企业出海服务专项行动的通知》及《工业和信息化部等17部门办公厅（室）关于开展2025年“一起益企”中小企业服务行动的通知》要求，进一步提升我市中小企业国际化水平和核心竞争力，助力中小企业开拓国际市场、增强风险防控能力，天津市中小企业服务中心于近日成功举办轻工产业链中小企业出海对接交流会。中国中小企业发展促进中心、天津市贸促会、天津市食品工业协会、天津市自行车电动车行业协会、武清区崔黄口镇商会，以及来自自行车、食品、地毯等领域的生产制造企业和进出口企业等20余家单位代表参加了活动。  会上，国家中心产业集群发展研究所负责同志围绕中小企业“走出去”万帆耘海行动的实施背景、主要任务及具体进展作了专题报告，深入解读了当前中小企业出海的趋势、政策支持及发展机遇，为参会企业提供了权威的政策指导和行动路径。市贸促会会展服务中心相关负责同志重点介绍了贸促会组织的境外展会项目及我市境外参展补贴政策，并结合热点国家的贸易环境、市场动态及政策导向，为企业提供了详实的出海信息及参展支持服务，助力企业精准把握国际市场机遇。活动主题引起与会企业的高度关注，现场交流、对接气氛热烈。近年来，在国家大力推进构建以国内大循环为主体、国内国际双循环相互促进的新发展格局背景下，越来越多的中小企业将海外业务视为推动企业增长的重要战略。但在全球化经营过程中，中小企业面临诸多挑战，由于缺乏出海的实战经验，境外抗风险能力较低，减缓了我市企业出海的步伐。市中小企业服务中心2024年起已着手为有出海需求的企业搭建资源共享、经验互通的平台；2025年中心启动的“中小企业出海系列活动”涵盖出海对接交流会、国际市场调研、境外展会参展支持等多元化服务。下一步，中心将聚焦中小企业出海需求，深化与各行业协会及专业服务机构的协同合作，完善中小企业出海服务体系，整合资源系统化提供政策解读、市场开拓、国际人才引进、管理提升、跨境金融、权益保护、数字化转型及检测认证等关键节点的服务对接，助力企业提升国际化能力。推动我市中小企业在全球市场中形成竞争新优势。\n",
      "==================================\u001b[1m Ai Message \u001b[0m==================================\n",
      "\n",
      "文章发布时间是2025年4月8日09:30。\n"
     ]
    }
   ],
   "source": [
    "input_message = \"文章发布的时间?\"\n",
    "\n",
    "for step in graph.stream(\n",
    "    {\"messages\": [{\"role\": \"user\", \"content\": input_message}]},\n",
    "    stream_mode=\"values\",\n",
    "    config=config,\n",
    "):\n",
    "    step[\"messages\"][-1].pretty_print()"
   ]
  },
  {
   "cell_type": "code",
   "execution_count": 16,
   "id": "3141a4a2-2297-46d4-8b26-17a92214209f",
   "metadata": {},
   "outputs": [
    {
     "name": "stdout",
     "output_type": "stream",
     "text": [
      "================================\u001b[1m Human Message \u001b[0m=================================\n",
      "\n",
      "“走出去”的口号是什么意思?\n",
      "==================================\u001b[1m Ai Message \u001b[0m==================================\n",
      "Tool Calls:\n",
      "  retrieve (call_49e867ccad2d4e2f8a2144call_49e867ccad2d4e2f8a2144call_49e867ccad2d4e2f8a2144call_49e867ccad2d4e2f8a2144)\n",
      " Call ID: call_49e867ccad2d4e2f8a2144call_49e867ccad2d4e2f8a2144call_49e867ccad2d4e2f8a2144call_49e867ccad2d4e2f8a2144\n",
      "  Args:\n",
      "    query: 走出去的含义\n",
      "=================================\u001b[1m Tool Message \u001b[0m=================================\n",
      "Name: retrieve\n",
      "\n",
      "Source: {'source': 'https://gyxxh.tj.gov.cn/glllm/gabsycs/gxdtgh/202504/t20250408_6902492.html'}\n",
      "Content: 来源：\n",
      "          天津市工业和信息化局\n",
      "        \n",
      "发布时间：\n",
      "          2025-04-08 09:30\n",
      "        \n",
      "\n",
      "\n",
      "为深入贯彻党的二十届三中全会精神，落实《工业和信息化部办公厅关于开展中小企业出海服务专项行动的通知》及《工业和信息化部等17部门办公厅（室）关于开展2025年“一起益企”中小企业服务行动的通知》要求，进一步提升我市中小企业国际化水平和核心竞争力，助力中小企业开拓国际市场、增强风险防控能力，天津市中小企业服务中心于近日成功举办轻工产业链中小企业出海对接交流会。中国中小企业发展促进中心、天津市贸促会、天津市食品工业协会、天津市自行车电动车行业协会、武清区崔黄口镇商会，以及来自自行车、食品、地毯等领域的生产制造企业和进出口企业等20余家单位代表参加了活动。  会上，国家中心产业集群发展研究所负责同志围绕中小企业“走出去”万帆耘海行动的实施背景、主要任务及具体进展作了专题报告，深入解读了当前中小企业出海的趋势、政策支持及发展机遇，为参会企业提供了权威的政策指导和行动路径。市贸促会会展服务中心相关负责同志重点介绍了贸促会组织的境外展会项目及我市境外参展补贴政策，并结合热点国家的贸易环境、市场动态及政策导向，为企业提供了详实的出海信息及参展支持服务，助力企业精准把握国际市场机遇。活动主题引起与会企业的高度关注，现场交流、对接气氛热烈。近年来，在国家大力推进构建以国内大循环为主体、国内国际双循环相互促进的新发展格局背景下，越来越多的中小企业将海外业务视为推动企业增长的重要战略。但在全球化经营过程中，中小企业面临诸多挑战，由于缺乏出海的实战经验，境外抗风险能力较低，减缓了我市企业出海的步伐。市中小企业服务中心2024年起已着手为有出海需求的企业搭建资源共享、经验互通的平台；2025年中心启动的“中小企业出海系列活动”涵盖出海对接交流会、国际市场调研、境外展会参展支持等多元化服务。下一步，中心将聚焦中小企业出海需求，深化与各行业协会及专业服务机构的协同合作，完善中小企业出海服务体系，整合资源系统化提供政策解读、市场开拓、国际人才引进、管理提升、跨境金融、权益保护、数字化转型及检测认证等关键节点的服务对接，助力企业提升国际化能力。推动我市中小企业在全球市场中形成竞争新优势。\n",
      "\n",
      "Source: {'source': 'https://gyxxh.tj.gov.cn/glllm/gabsycs/gxdtgh/202504/t20250408_6902492.html'}\n",
      "Content: 工信动态\n",
      "          \n",
      "\n",
      "\n",
      "\n",
      "\n",
      "\n",
      "        天津市中小企业服务中心成功举办轻工 产业链中小企业出海对接交流会\n",
      "      \n",
      "\n",
      "来源：\n",
      "          天津市工业和信息化局\n",
      "        \n",
      "发布时间：\n",
      "          2025-04-08 09:30\n",
      "==================================\u001b[1m Ai Message \u001b[0m==================================\n",
      "\n",
      "“走出去”指的是鼓励中小企业拓展海外市场，提升国际化水平和竞争力。具体内容包括提供政策指导、市场开拓、国际人才引进等服务，帮助企业增强境外抗风险能力。\n"
     ]
    }
   ],
   "source": [
    "input_message = \"“走出去”的口号是什么意思?\"\n",
    "\n",
    "for step in graph.stream(\n",
    "    {\"messages\": [{\"role\": \"user\", \"content\": input_message}]},\n",
    "    stream_mode=\"values\",\n",
    "    config=config,\n",
    "):\n",
    "    step[\"messages\"][-1].pretty_print()"
   ]
  },
  {
   "cell_type": "code",
   "execution_count": 17,
   "id": "0a89e006-bcea-4fd2-b91a-d23a67f7bfd6",
   "metadata": {},
   "outputs": [
    {
     "name": "stdout",
     "output_type": "stream",
     "text": [
      "================================\u001b[1m Human Message \u001b[0m=================================\n",
      "\n",
      "是星期几呢?\n",
      "==================================\u001b[1m Ai Message \u001b[0m==================================\n",
      "Tool Calls:\n",
      "  retrieve (call_d7193225ab704fa0b1726ccall_d7193225ab704fa0b1726ccall_d7193225ab704fa0b1726ccall_d7193225ab704fa0b1726ccall_d7193225ab704fa0b1726ccall_d7193225ab704fa0b1726c)\n",
      " Call ID: call_d7193225ab704fa0b1726ccall_d7193225ab704fa0b1726ccall_d7193225ab704fa0b1726ccall_d7193225ab704fa0b1726ccall_d7193225ab704fa0b1726ccall_d7193225ab704fa0b1726c\n",
      "  Args:\n",
      "    query: 2025年4月8日是星期几\n",
      "=================================\u001b[1m Tool Message \u001b[0m=================================\n",
      "Name: retrieve\n",
      "\n",
      "Source: {'source': 'https://gyxxh.tj.gov.cn/glllm/gabsycs/gxdtgh/202504/t20250408_6902492.html'}\n",
      "Content: 来源：\n",
      "          天津市工业和信息化局\n",
      "        \n",
      "发布时间：\n",
      "          2025-04-08 09:30\n",
      "        \n",
      "\n",
      "\n",
      "为深入贯彻党的二十届三中全会精神，落实《工业和信息化部办公厅关于开展中小企业出海服务专项行动的通知》及《工业和信息化部等17部门办公厅（室）关于开展2025年“一起益企”中小企业服务行动的通知》要求，进一步提升我市中小企业国际化水平和核心竞争力，助力中小企业开拓国际市场、增强风险防控能力，天津市中小企业服务中心于近日成功举办轻工产业链中小企业出海对接交流会。中国中小企业发展促进中心、天津市贸促会、天津市食品工业协会、天津市自行车电动车行业协会、武清区崔黄口镇商会，以及来自自行车、食品、地毯等领域的生产制造企业和进出口企业等20余家单位代表参加了活动。  会上，国家中心产业集群发展研究所负责同志围绕中小企业“走出去”万帆耘海行动的实施背景、主要任务及具体进展作了专题报告，深入解读了当前中小企业出海的趋势、政策支持及发展机遇，为参会企业提供了权威的政策指导和行动路径。市贸促会会展服务中心相关负责同志重点介绍了贸促会组织的境外展会项目及我市境外参展补贴政策，并结合热点国家的贸易环境、市场动态及政策导向，为企业提供了详实的出海信息及参展支持服务，助力企业精准把握国际市场机遇。活动主题引起与会企业的高度关注，现场交流、对接气氛热烈。近年来，在国家大力推进构建以国内大循环为主体、国内国际双循环相互促进的新发展格局背景下，越来越多的中小企业将海外业务视为推动企业增长的重要战略。但在全球化经营过程中，中小企业面临诸多挑战，由于缺乏出海的实战经验，境外抗风险能力较低，减缓了我市企业出海的步伐。市中小企业服务中心2024年起已着手为有出海需求的企业搭建资源共享、经验互通的平台；2025年中心启动的“中小企业出海系列活动”涵盖出海对接交流会、国际市场调研、境外展会参展支持等多元化服务。下一步，中心将聚焦中小企业出海需求，深化与各行业协会及专业服务机构的协同合作，完善中小企业出海服务体系，整合资源系统化提供政策解读、市场开拓、国际人才引进、管理提升、跨境金融、权益保护、数字化转型及检测认证等关键节点的服务对接，助力企业提升国际化能力。推动我市中小企业在全球市场中形成竞争新优势。\n",
      "\n",
      "Source: {'source': 'https://gyxxh.tj.gov.cn/glllm/gabsycs/gxdtgh/202504/t20250408_6902492.html'}\n",
      "Content: 工信动态\n",
      "          \n",
      "\n",
      "\n",
      "\n",
      "\n",
      "\n",
      "        天津市中小企业服务中心成功举办轻工 产业链中小企业出海对接交流会\n",
      "      \n",
      "\n",
      "来源：\n",
      "          天津市工业和信息化局\n",
      "        \n",
      "发布时间：\n",
      "          2025-04-08 09:30\n",
      "==================================\u001b[1m Ai Message \u001b[0m==================================\n",
      "\n",
      "文章发布的日期是2025年4月8日，是周二。\n"
     ]
    }
   ],
   "source": [
    "input_message = \"是星期几呢?\"\n",
    "\n",
    "for step in graph.stream(\n",
    "    {\"messages\": [{\"role\": \"user\", \"content\": input_message}]},\n",
    "    stream_mode=\"values\",\n",
    "    config=config,\n",
    "):\n",
    "    step[\"messages\"][-1].pretty_print()"
   ]
  },
  {
   "cell_type": "markdown",
   "id": "d81d75c2-0c92-4f94-a577-0f6f14008efa",
   "metadata": {},
   "source": [
    "> 请注意，问题中模型生成的查询包含了对话上下文。"
   ]
  },
  {
   "cell_type": "markdown",
   "id": "b7f681ec-bdcd-47bd-8b21-af94956fe16b",
   "metadata": {},
   "source": [
    "### 智能体（Agents）\n",
    "\n",
    "**智能体（Agents）** 利用大语言模型（LLMs）的推理能力，在执行过程中进行决策。使用智能体可以让你在检索流程中拥有更多的自主判断空间。\n",
    "\n",
    "虽然相比前面提到的“链式调用（chain）”方式，智能体的行为更具不确定性、更难预测，但它们能够在处理一个查询时：\n",
    "\n",
    "- 执行**多个检索步骤**；\n",
    "- 或者对一次检索结果进行**迭代优化**。\n",
    "\n",
    "---\n",
    "\n",
    "### 构建一个最简 RAG 智能体\n",
    "\n",
    "下面我们构建一个最小的 RAG 智能体。借助 LangGraph 提供的预构建 **ReAct 智能体构造器（agent constructor）**，我们只需一行代码即可完成创建：\n",
    "\n"
   ]
  },
  {
   "cell_type": "code",
   "execution_count": 18,
   "id": "92ceaccd-f50d-49a9-a548-802515de1dae",
   "metadata": {},
   "outputs": [],
   "source": [
    "from langgraph.prebuilt import create_react_agent\n",
    "\n",
    "agent_executor = create_react_agent(llm, [retrieve], checkpointer=memory)"
   ]
  },
  {
   "cell_type": "code",
   "execution_count": 19,
   "id": "df9e9353-0611-41fa-a94b-4d59febe464f",
   "metadata": {},
   "outputs": [
    {
     "data": {
      "image/png": "[encoded data removed]",
      "text/plain": [
       "<IPython.core.display.Image object>"
      ]
     },
     "metadata": {},
     "output_type": "display_data"
    }
   ],
   "source": [
    "display(Image(agent_executor.get_graph().draw_mermaid_png()))"
   ]
  },
  {
   "cell_type": "markdown",
   "id": "01e0da66-07b2-44b7-afa7-bc9cd3ad5993",
   "metadata": {},
   "source": [
    "与我们之前实现的最大区别在于：  \n",
    "以前的流程中，最后一步是生成答案并结束整个流程；而在智能体（Agent）模式中，**工具调用会回传给原始的语言模型调用**，形成一个循环。\n",
    "\n",
    "这样一来，模型可以根据检索到的信息：\n",
    "\n",
    "- 直接回答用户的问题；\n",
    "- 或者再次生成一个新的工具调用，以获取更多信息。\n",
    "\n",
    "这种机制使得模型能够在需要时进行多轮检索，从而逐步逼近最终答案。\n",
    "\n",
    "---\n",
    "\n",
    "### 我们来测试一下这个功能\n",
    "\n",
    "我们可以构造一个通常需要**多次检索步骤**才能回答的问题。例如：\n",
    "\n",
    "> “这是星期几发布的？”\n",
    "\n",
    "这个问题包含多个层次。\n",
    "\n"
   ]
  },
  {
   "cell_type": "code",
   "execution_count": 20,
   "id": "a36fdcbd-13b4-4cb1-86f3-430377ea121b",
   "metadata": {},
   "outputs": [
    {
     "name": "stdout",
     "output_type": "stream",
     "text": [
      "================================\u001b[1m Human Message \u001b[0m=================================\n",
      "\n",
      "这是星期几发布的？\n",
      "\n",
      "得到答案后，查找该方法的常见扩展。\n",
      "==================================\u001b[1m Ai Message \u001b[0m==================================\n",
      "Tool Calls:\n",
      "  retrieve (call_77ef58d390ee4b1b8454f6call_77ef58d390ee4b1b8454f6call_77ef58d390ee4b1b8454f6call_77ef58d390ee4b1b8454f6)\n",
      " Call ID: call_77ef58d390ee4b1b8454f6call_77ef58d390ee4b1b8454f6call_77ef58d390ee4b1b8454f6call_77ef58d390ee4b1b8454f6\n",
      "  Args:\n",
      "    query: 发布日期 星期几\n",
      "=================================\u001b[1m Tool Message \u001b[0m=================================\n",
      "Name: retrieve\n",
      "\n",
      "Source: {'source': 'https://gyxxh.tj.gov.cn/glllm/gabsycs/gxdtgh/202504/t20250408_6902492.html'}\n",
      "Content: 工信动态\n",
      "          \n",
      "\n",
      "\n",
      "\n",
      "\n",
      "\n",
      "        天津市中小企业服务中心成功举办轻工 产业链中小企业出海对接交流会\n",
      "      \n",
      "\n",
      "来源：\n",
      "          天津市工业和信息化局\n",
      "        \n",
      "发布时间：\n",
      "          2025-04-08 09:30\n",
      "\n",
      "Source: {'source': 'https://gyxxh.tj.gov.cn/glllm/gabsycs/gxdtgh/202504/t20250408_6902492.html'}\n",
      "Content: 来源：\n",
      "          天津市工业和信息化局\n",
      "        \n",
      "发布时间：\n",
      "          2025-04-08 09:30\n",
      "        \n",
      "\n",
      "\n",
      "为深入贯彻党的二十届三中全会精神，落实《工业和信息化部办公厅关于开展中小企业出海服务专项行动的通知》及《工业和信息化部等17部门办公厅（室）关于开展2025年“一起益企”中小企业服务行动的通知》要求，进一步提升我市中小企业国际化水平和核心竞争力，助力中小企业开拓国际市场、增强风险防控能力，天津市中小企业服务中心于近日成功举办轻工产业链中小企业出海对接交流会。中国中小企业发展促进中心、天津市贸促会、天津市食品工业协会、天津市自行车电动车行业协会、武清区崔黄口镇商会，以及来自自行车、食品、地毯等领域的生产制造企业和进出口企业等20余家单位代表参加了活动。  会上，国家中心产业集群发展研究所负责同志围绕中小企业“走出去”万帆耘海行动的实施背景、主要任务及具体进展作了专题报告，深入解读了当前中小企业出海的趋势、政策支持及发展机遇，为参会企业提供了权威的政策指导和行动路径。市贸促会会展服务中心相关负责同志重点介绍了贸促会组织的境外展会项目及我市境外参展补贴政策，并结合热点国家的贸易环境、市场动态及政策导向，为企业提供了详实的出海信息及参展支持服务，助力企业精准把握国际市场机遇。活动主题引起与会企业的高度关注，现场交流、对接气氛热烈。近年来，在国家大力推进构建以国内大循环为主体、国内国际双循环相互促进的新发展格局背景下，越来越多的中小企业将海外业务视为推动企业增长的重要战略。但在全球化经营过程中，中小企业面临诸多挑战，由于缺乏出海的实战经验，境外抗风险能力较低，减缓了我市企业出海的步伐。市中小企业服务中心2024年起已着手为有出海需求的企业搭建资源共享、经验互通的平台；2025年中心启动的“中小企业出海系列活动”涵盖出海对接交流会、国际市场调研、境外展会参展支持等多元化服务。下一步，中心将聚焦中小企业出海需求，深化与各行业协会及专业服务机构的协同合作，完善中小企业出海服务体系，整合资源系统化提供政策解读、市场开拓、国际人才引进、管理提升、跨境金融、权益保护、数字化转型及检测认证等关键节点的服务对接，助力企业提升国际化能力。推动我市中小企业在全球市场中形成竞争新优势。\n",
      "==================================\u001b[1m Ai Message \u001b[0m==================================\n",
      "\n",
      "该信息是在2025年4月8日发布的，这一天是星期二。\n",
      "\n",
      "关于您提到的方法的常见扩展包括：\n",
      "\n",
      "1. 使用自然语言处理技术来自动识别文档中的日期和星期信息。\n",
      "2. 在文档中加入更多的元数据，以便更容易地跟踪和检索。\n",
      "3. 将日期和星期信息与其他相关信息（如地理位置、事件类型等）关联起来，以提供更全面的信息视图。\n",
      "\n",
      "请注意，这些扩展可能会根据具体的使用场景和技术条件有所不同。\n"
     ]
    }
   ],
   "source": [
    "config = {\"configurable\": {\"thread_id\": \"def234\"}}\n",
    "\n",
    "input_message = (\n",
    "    \"这是星期几发布的？\\n\\n\"\n",
    "    \"得到答案后，查找该方法的常见扩展。\"\n",
    ")\n",
    "\n",
    "for event in agent_executor.stream(\n",
    "    {\"messages\": [{\"role\": \"user\", \"content\": input_message}]},\n",
    "    stream_mode=\"values\",\n",
    "    config=config,\n",
    "):\n",
    "    event[\"messages\"][-1].pretty_print()"
   ]
  },
  {
   "cell_type": "markdown",
   "id": "0e1d0c51-4d81-47d5-afad-a5f480096ce9",
   "metadata": {},
   "source": [
    "### 请注意，智能体（Agent）的执行过程如下：\n",
    "\n",
    "1. **生成一个查询**，用于搜索任务分解的标准方法；\n",
    "2. 在**收到第一轮检索结果后**，生成**第二个查询**，用于搜索该方法的常见扩展或补充内容；\n",
    "3. 在**获取到所有必要的上下文信息后**，最终生成对用户问题的完整回答。\n",
    "\n",
    "这种多步骤、自动化的检索流程使得智能体能够更深入地理解并回答复杂问题。"
   ]
  },
  {
   "cell_type": "code",
   "execution_count": null,
   "id": "0b6bc7de-9ebb-43a6-90d8-241dc28e13b9",
   "metadata": {},
   "outputs": [],
   "source": []
  }
 ],
 "metadata": {
  "kernelspec": {
   "display_name": "Python 3 (ipykernel)",
   "language": "python",
   "name": "python3"
  },
  "language_info": {
   "codemirror_mode": {
    "name": "ipython",
    "version": 3
   },
   "file_extension": ".py",
   "mimetype": "text/x-python",
   "name": "python",
   "nbconvert_exporter": "python",
   "pygments_lexer": "ipython3",
   "version": "3.11.13"
  }
 },
 "nbformat": 4,
 "nbformat_minor": 5
}
