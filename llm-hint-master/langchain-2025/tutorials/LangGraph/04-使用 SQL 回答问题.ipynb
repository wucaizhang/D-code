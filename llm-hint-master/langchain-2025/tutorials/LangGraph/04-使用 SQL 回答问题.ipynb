{
 "cells": [
  {
   "cell_type": "markdown",
   "id": "7bfc6b55-92d5-42e7-ad65-2fbb9891aa55",
   "metadata": {},
   "source": [
    "# 使用 SQL 回答问题\n",
    "\n",
    " > 构建一个问题回答系统，执行 SQL 查询以告知其响应。\n",
    "\n",
    "## 构建一个基于 SQL 数据的问答系统（Build a Question/Answering System over SQL Data）\n",
    "\n",
    "### 内容概述\n",
    "\n",
    "让一个大语言模型（LLM）系统查询**结构化数据**，与处理非结构化文本数据有本质区别。\n",
    "\n",
    "在处理非结构化文本时，通常的做法是生成嵌入（embeddings），然后在向量数据库中进行语义搜索。  \n",
    "而在处理**结构化数据**（如关系型数据库中的表格数据）时，常见做法是让 LLM 生成并执行一种**领域特定语言（DSL）** 的查询，例如 **SQL**。\n",
    "\n",
    "在本指南中，我们将介绍如何在数据库中的表格数据上构建一个基本的问答系统（Q&A system）。我们会分别使用：\n",
    "\n",
    "- **Chains（链式调用）**\n",
    "- **Agents（智能体）**\n",
    "\n",
    "这两种方式都能让我们对数据库中的数据提出自然语言问题，并获得自然语言形式的答案。\n",
    "\n",
    "它们之间的主要区别在于：\n",
    "\n",
    "- 使用 **Chain** 时，我们通常只执行一次预定义的 SQL 查询；\n",
    "- 使用 **Agent** 时，它可以**循环多次查询数据库**，直到获取足够的信息来回答问题。\n",
    "\n",
    "### ⚠️ 安全提示 ⚠️\n",
    "\n",
    "构建基于 SQL 数据库的问答系统，通常需要**执行由模型生成的 SQL 查询语句**。这种做法存在**固有的安全风险**。\n",
    "\n",
    "为降低风险，请务必确保：\n",
    "\n",
    "> 你的数据库连接权限应**尽可能最小化**，仅授予你的 Chain（链）或 Agent（智能体）**实际需要的访问权限**。\n",
    "\n",
    "这样虽然不能完全消除模型驱动系统所带来的风险，但可以**显著提高安全性**。\n",
    "\n",
    "例如：\n",
    "\n",
    "- 不要使用具有写权限或管理权限的数据库账户；\n",
    "- 限制对敏感表或字段的访问；\n",
    "- 使用只读用户账号进行查询；\n",
    "- 对生成的 SQL 进行校验或过滤（如白名单机制）；\n",
    "\n",
    "### 架构（Architecture）\n",
    "\n",
    "从高层次来看，这类系统的执行步骤通常包括：\n",
    "\n",
    "1. **将问题转换为 SQL 查询**：  \n",
    "   由模型将用户的自然语言问题转化为对应的 SQL 查询语句。\n",
    "\n",
    "2. **执行 SQL 查询**：  \n",
    "   在数据库中执行生成的 SQL 语句，获取相关数据结果。\n",
    "\n",
    "3. **根据查询结果回答问题**：  \n",
    "   模型使用查询返回的数据，生成自然语言的回答，反馈给用户。\n",
    "\n",
    "---\n",
    "\n",
    "### 补充说明：\n",
    "\n",
    "请注意，这种处理方式同样适用于对 **CSV 文件中的结构化数据** 进行查询。  \n",
    "如果你希望了解如何构建基于 CSV 数据的问答系统，可以参考我们的指南：  \n",
    "👉 [如何构建基于 CSV 数据的问答系统（How-to guide on question-answering over CSV data）](https://python.langchain.com/docs/how_to/sql_csv/)\n",
    "\n",
    "\n",
    "![示例图片](../../assets/imgs/sql_usecase.png)  \n",
    "\n",
    "### 示例数据（Sample Data）\n",
    "\n",
    "下面的示例将使用一个 **SQLite 数据库连接**，并基于 **Chinook 数据库** 进行操作。  \n",
    "Chinook 是一个示例数据库，它模拟了一个数字音像商店（Digital Media Store）的业务数据。\n",
    "\n",
    "请按照以下安装步骤，在**与当前 Notebook 相同的目录下**创建 `Chinook.db` 文件。  \n",
    "你也可以通过命令行下载并构建该数据库：\n",
    "\n",
    "---\n",
    "\n",
    "### ✅ 安装步骤（Installation Steps）\n",
    "\n",
    "sqlite3 下载链接：https://sqlite.org/2025/sqlite-tools-win-x64-3500100.zip\n",
    "\n",
    "```bash\n",
    "# 下载 Chinook SQLite 数据库文件\n",
    "curl -s https://raw.githubusercontent.com/lerocha/chinook-database/master/ChinookDatabase/DataSources/Chinook_Sqlite.sql | sqlite3 Chinook.db\n",
    "\n",
    "```\n",
    "\n",
    "这样你就可以在 Python 代码中轻松连接和使用这个数据库了。\n"
   ]
  },
  {
   "cell_type": "code",
   "execution_count": 2,
   "id": "df6f58e1-2d0f-4a72-97c7-bb9a41b43c76",
   "metadata": {},
   "outputs": [
    {
     "name": "stdout",
     "output_type": "stream",
     "text": [
      "sqlite\n",
      "['Album', 'Artist', 'Customer', 'Employee', 'Genre', 'Invoice', 'InvoiceLine', 'MediaType', 'Playlist', 'PlaylistTrack', 'Track']\n"
     ]
    },
    {
     "data": {
      "text/plain": [
       "\"[(1, 'AC/DC'), (2, 'Accept'), (3, 'Aerosmith'), (4, 'Alanis Morissette'), (5, 'Alice In Chains'), (6, 'Antônio Carlos Jobim'), (7, 'Apocalyptica'), (8, 'Audioslave'), (9, 'BackBeat'), (10, 'Billy Cobham')]\""
      ]
     },
     "execution_count": 2,
     "metadata": {},
     "output_type": "execute_result"
    }
   ],
   "source": [
    "from langchain_community.utilities import SQLDatabase\n",
    "\n",
    "db = SQLDatabase.from_uri(\"sqlite:///Chinook.db\")\n",
    "print(db.dialect)\n",
    "print(db.get_usable_table_names())\n",
    "db.run(\"SELECT * FROM Artist LIMIT 10;\")"
   ]
  },
  {
   "cell_type": "markdown",
   "id": "4f47b985-5692-41b4-bef9-955afe1c2977",
   "metadata": {},
   "source": [
    "我们现在有了一个可以查询的 SQL 数据库。现在，让我们尝试将它连接到一个大语言模型（LLM）上。"
   ]
  },
  {
   "cell_type": "markdown",
   "id": "2e2503a6-f076-4a92-a4d6-d87dedec08f8",
   "metadata": {},
   "source": [
    "### Chains（链式调用）\n",
    "\n",
    "**Chains（链）** 是由一系列可预测的步骤组合而成。在 LangGraph 中，我们可以通过简单的节点序列来表示一个 Chain。\n",
    "\n",
    "下面我们创建一个流程，它接收一个问题，并依次执行以下步骤：\n",
    "\n",
    "1. **将问题转换为 SQL 查询**；\n",
    "2. **执行该 SQL 查询**；\n",
    "3. **使用查询结果回答原始问题**。\n",
    "\n",
    "---\n",
    "\n",
    "### ⚠️ 局限性说明\n",
    "\n",
    "这种结构并不能处理所有场景，例如：\n",
    "\n",
    "- 它会对**任何用户输入**都尝试生成并执行 SQL 查询，即使输入是像 `\"hello\"` 这样的问候语；\n",
    "- 有些问题需要**多次数据库查询**才能回答完整（比如涉及多个表或多个逻辑步骤的问题）。\n",
    "\n",
    "这些问题我们将在后面的 **Agents（智能体）** 部分中解决。\n",
    "\n",
    "---\n",
    "\n",
    "### 应用状态（Application State）\n",
    "\n",
    "LangGraph 中的应用状态（State）决定了：\n",
    "\n",
    "- 哪些数据作为输入传入应用；\n",
    "- 步骤之间传递哪些信息；\n",
    "- 最终输出哪些内容。\n",
    "\n",
    "通常我们会使用 `TypedDict` 来定义状态结构，也可以使用 Pydantic 的 `BaseModel`。\n",
    "\n",
    "---\n",
    "\n",
    "### 本例中的状态定义\n",
    "\n",
    "对于当前这个基于 SQL 的问答系统，我们的状态可以包含以下字段：\n",
    "\n",
    "```python\n",
    "from typing import TypedDict\n",
    "\n",
    "class State(TypedDict):\n",
    "    question: str           # 用户提出的问题\n",
    "    sql_query: str          # 生成的 SQL 查询语句\n",
    "    result_of_query: str    # 查询返回的结果\n",
    "    answer: str             # 最终生成的回答\n",
    "```\n",
    "\n",
    "这样，我们就可以在每个节点中逐步填充这些字段，完成整个流程。"
   ]
  },
  {
   "cell_type": "code",
   "execution_count": 3,
   "id": "43bea38c-d2e5-43f2-9b72-568dcba4a7aa",
   "metadata": {},
   "outputs": [],
   "source": [
    "from typing_extensions import TypedDict\n",
    "\n",
    "\n",
    "class State(TypedDict):\n",
    "    question: str\n",
    "    query: str\n",
    "    result: str\n",
    "    answer: str"
   ]
  },
  {
   "cell_type": "markdown",
   "id": "cf5572da-35bb-49d1-9e8e-ddc57cc4b3e7",
   "metadata": {},
   "source": [
    "现在我们只需要编写一些函数来操作这个状态（State），并逐步填充它的内容即可。\n",
    "\n",
    "---\n",
    "\n",
    "### 第一步：将问题转换为 SQL 查询\n",
    "\n",
    "我们需要的第一个功能是：**接收用户的自然语言问题，并将其转化为对应的 SQL 查询语句**。\n",
    "\n",
    "为了**稳定、可靠地获取纯 SQL 查询结果**（避免包含 Markdown 格式、解释性文字或其他多余内容），我们将使用 **LangChain 的结构化输出抽象（structured output abstraction）**。\n",
    "\n",
    "这意味着我们可以定义一个输出格式（例如只返回 SQL 查询字符串），并让模型严格按照该格式输出，从而提升准确性和可控性。\n"
   ]
  },
  {
   "cell_type": "code",
   "execution_count": 4,
   "id": "6aa3b625-2456-4b2e-bd25-fb4c8344a7bd",
   "metadata": {},
   "outputs": [],
   "source": [
    "import getpass\n",
    "import os\n",
    "\n",
    "try:\n",
    "    # load environment variables from .env file (requires `python-dotenv`)\n",
    "    from dotenv import load_dotenv\n",
    "\n",
    "    _ = load_dotenv()\n",
    "except ImportError:\n",
    "    pass\n",
    "\n",
    "if not os.environ.get(\"DASHSCOPE_API_KEY\"):\n",
    "  os.environ[\"DASHSCOPE_API_KEY\"] = getpass.getpass(\"Enter API key for OpenAI: \")\n",
    "\n",
    "from langchain_community.chat_models.tongyi import ChatTongyi\n",
    "\n",
    "llm  = ChatTongyi(\n",
    "    streaming=True,\n",
    "    name=\"qwen-turbo\"\n",
    ")"
   ]
  },
  {
   "cell_type": "code",
   "execution_count": 5,
   "id": "760822f6-9f39-49b9-9fa9-bd67ad19d320",
   "metadata": {},
   "outputs": [
    {
     "name": "stdout",
     "output_type": "stream",
     "text": [
      "================================\u001b[1m System Message \u001b[0m================================\n",
      "\n",
      "\n",
      "Given an input question, create a syntactically correct \u001b[33;1m\u001b[1;3m{dialect}\u001b[0m query to\n",
      "run to help find the answer. Unless the user specifies in his question a\n",
      "specific number of examples they wish to obtain, always limit your query to\n",
      "at most \u001b[33;1m\u001b[1;3m{top_k}\u001b[0m results. You can order the results by a relevant column to\n",
      "return the most interesting examples in the database.\n",
      "\n",
      "Never query for all the columns from a specific table, only ask for a the\n",
      "few relevant columns given the question.\n",
      "\n",
      "Pay attention to use only the column names that you can see in the schema\n",
      "description. Be careful to not query for columns that do not exist. Also,\n",
      "pay attention to which column is in which table.\n",
      "\n",
      "Only use the following tables:\n",
      "\u001b[33;1m\u001b[1;3m{table_info}\u001b[0m\n",
      "\n",
      "================================\u001b[1m Human Message \u001b[0m=================================\n",
      "\n",
      "Question: \u001b[33;1m\u001b[1;3m{input}\u001b[0m\n"
     ]
    }
   ],
   "source": [
    "from langchain_core.prompts import ChatPromptTemplate\n",
    "\n",
    "system_message = \"\"\"\n",
    "Given an input question, create a syntactically correct {dialect} query to\n",
    "run to help find the answer. Unless the user specifies in his question a\n",
    "specific number of examples they wish to obtain, always limit your query to\n",
    "at most {top_k} results. You can order the results by a relevant column to\n",
    "return the most interesting examples in the database.\n",
    "\n",
    "Never query for all the columns from a specific table, only ask for a the\n",
    "few relevant columns given the question.\n",
    "\n",
    "Pay attention to use only the column names that you can see in the schema\n",
    "description. Be careful to not query for columns that do not exist. Also,\n",
    "pay attention to which column is in which table.\n",
    "\n",
    "Only use the following tables:\n",
    "{table_info}\n",
    "\"\"\"\n",
    "\n",
    "user_prompt = \"Question: {input}\"\n",
    "\n",
    "query_prompt_template = ChatPromptTemplate(\n",
    "    [(\"system\", system_message), (\"user\", user_prompt)]\n",
    ")\n",
    "\n",
    "for message in query_prompt_template.messages:\n",
    "    message.pretty_print()"
   ]
  },
  {
   "cell_type": "markdown",
   "id": "25ffd64d-dac5-4382-a922-9e790a531a4c",
   "metadata": {},
   "source": [
    "这个提示词（prompt）中包含了一些我们需要填充的参数，例如 SQL 方言（dialect）和表结构（table schemas）。  \n",
    "LangChain 的 `SQLDatabase` 对象提供了一些方法来帮助我们获取这些信息。\n",
    "\n",
    "在我们的 **write_query** 步骤中，只需要将这些参数填入提示词模板中，然后让模型生成对应的 SQL 查询语句即可："
   ]
  },
  {
   "cell_type": "code",
   "execution_count": 11,
   "id": "d6331734-16c7-438c-9842-3bb3a65355dd",
   "metadata": {},
   "outputs": [],
   "source": [
    "from typing_extensions import Annotated\n",
    "\n",
    "\n",
    "class QueryOutput(TypedDict):\n",
    "    \"\"\"Generated SQL query.\"\"\"\n",
    "\n",
    "    query: Annotated[str, ..., \"Syntactically valid SQL query.\"]\n",
    "\n",
    "\n",
    "def write_query(state: State):\n",
    "    \"\"\"Generate SQL query to fetch information.\"\"\"\n",
    "    prompt = query_prompt_template.invoke(\n",
    "        {\n",
    "            \"dialect\": db.dialect,\n",
    "            \"top_k\": 10,\n",
    "            \"table_info\": db.get_table_info(),\n",
    "            \"input\": state[\"question\"],\n",
    "        }\n",
    "    )\n",
    "    structured_llm = llm.with_structured_output(QueryOutput)\n",
    "    result = structured_llm.invoke(prompt)\n",
    "    return {\"query\": result[\"query\"]}"
   ]
  },
  {
   "cell_type": "code",
   "execution_count": 7,
   "id": "6ef0a770-efd3-401d-888e-8f09b2e3114e",
   "metadata": {},
   "outputs": [
    {
     "data": {
      "text/plain": [
       "{'query': 'SELECT COUNT(*) AS NumberOfEmployees FROM Employee'}"
      ]
     },
     "execution_count": 7,
     "metadata": {},
     "output_type": "execute_result"
    }
   ],
   "source": [
    "write_query({\"question\": \"How many Employees are there?\"})"
   ]
  },
  {
   "cell_type": "markdown",
   "id": "a4eb771f-cc08-4a4d-b2e8-24118a690b27",
   "metadata": {},
   "source": [
    "### 执行查询（Execute Query）\n",
    "\n",
    "这是构建 SQL Chain（链）过程中**最危险的一步**。\n",
    "\n",
    "在执行前，请**务必谨慎评估是否允许对你的数据自动执行查询**。为了降低风险：\n",
    "\n",
    "- 应尽可能**最小化数据库连接权限**（例如使用只读账户）；\n",
    "- 可以考虑在执行查询前加入一个**人工审批步骤**；\n",
    "\n",
    "---\n",
    "\n",
    "### 实现方式\n",
    "\n",
    "为了执行 SQL 查询，我们将从 `langchain-community` 中加载一个工具（tool）。  \n",
    "我们创建的 `execute_query` 节点只需封装这个工具即可：\n"
   ]
  },
  {
   "cell_type": "code",
   "execution_count": 8,
   "id": "ee91ee0e-963e-48b2-be08-1f8e99334e5d",
   "metadata": {},
   "outputs": [],
   "source": [
    "from langchain_community.tools.sql_database.tool import QuerySQLDatabaseTool\n",
    "\n",
    "\n",
    "def execute_query(state: State):\n",
    "    \"\"\"Execute SQL query.\"\"\"\n",
    "    execute_query_tool = QuerySQLDatabaseTool(db=db)\n",
    "    return {\"result\": execute_query_tool.invoke(state[\"query\"])}"
   ]
  },
  {
   "cell_type": "code",
   "execution_count": 9,
   "id": "30b91add-2434-4f77-9ea6-02599cc9cd5a",
   "metadata": {},
   "outputs": [
    {
     "data": {
      "text/plain": [
       "{'result': '[(8,)]'}"
      ]
     },
     "execution_count": 9,
     "metadata": {},
     "output_type": "execute_result"
    }
   ],
   "source": [
    "execute_query({\"query\": \"SELECT COUNT(EmployeeId) AS EmployeeCount FROM Employee;\"})"
   ]
  },
  {
   "cell_type": "markdown",
   "id": "0d28d933-9d0c-4298-af1b-83f9e41031c6",
   "metadata": {},
   "source": [
    "### 生成答案（Generate Answer）\n",
    "\n",
    "最后，我们的最后一个步骤是：**根据从数据库中检索到的信息，生成对原始问题的自然语言回答**。\n",
    "\n",
    "这一步通常由语言模型（LLM）完成，它会将结构化的查询结果（如表格数据或聚合数值）转化为易于理解的回答。\n"
   ]
  },
  {
   "cell_type": "code",
   "execution_count": 10,
   "id": "c64ffe7d-bc5b-43be-a032-6c3508b2d99f",
   "metadata": {},
   "outputs": [],
   "source": [
    "def generate_answer(state: State):\n",
    "    \"\"\"Answer question using retrieved information as context.\"\"\"\n",
    "    prompt = (\n",
    "        \"Given the following user question, corresponding SQL query, \"\n",
    "        \"and SQL result, answer the user question.\\n\\n\"\n",
    "        f'Question: {state[\"question\"]}\\n'\n",
    "        f'SQL Query: {state[\"query\"]}\\n'\n",
    "        f'SQL Result: {state[\"result\"]}'\n",
    "    )\n",
    "    response = llm.invoke(prompt)\n",
    "    return {\"answer\": response.content}"
   ]
  },
  {
   "cell_type": "markdown",
   "id": "668ff61d-bb19-4463-a8fc-6680b1757b48",
   "metadata": {},
   "source": [
    "### 使用 LangGraph 进行流程编排（Orchestrating with LangGraph）\n",
    "\n",
    "最后，我们将整个应用程序**编译成一个图对象（graph object）**。  \n",
    "在本例中，我们只是将前面定义的三个步骤按顺序连接起来，形成一个**线性的执行流程**。\n"
   ]
  },
  {
   "cell_type": "code",
   "execution_count": 12,
   "id": "9c11cebe-492b-441d-846c-055be84901d8",
   "metadata": {},
   "outputs": [],
   "source": [
    "from langgraph.graph import START, StateGraph\n",
    "\n",
    "graph_builder = StateGraph(State).add_sequence(\n",
    "    [write_query, execute_query, generate_answer]\n",
    ")\n",
    "graph_builder.add_edge(START, \"write_query\")\n",
    "graph = graph_builder.compile()"
   ]
  },
  {
   "cell_type": "markdown",
   "id": "1b2a3527-acfa-4008-9ffd-ca8a925bb3c7",
   "metadata": {},
   "source": [
    "LangGraph 还内置了用于可视化你的应用程序控制流程的工具："
   ]
  },
  {
   "cell_type": "code",
   "execution_count": 13,
   "id": "6501c494-ae44-4200-a4fb-3485e920ec78",
   "metadata": {},
   "outputs": [
    {
     "data": {
      "image/png": "[encoded data removed]",
      "text/plain": [
       "<IPython.core.display.Image object>"
      ]
     },
     "metadata": {},
     "output_type": "display_data"
    }
   ],
   "source": [
    "from IPython.display import Image, display\n",
    "\n",
    "display(Image(graph.get_graph().draw_mermaid_png()))"
   ]
  },
  {
   "cell_type": "markdown",
   "id": "8ddd65fb-d881-442b-8016-2441b5adef0b",
   "metadata": {},
   "source": [
    "让我们来测试我们的应用程序！请注意，我们可以流式传输各个步骤的结果："
   ]
  },
  {
   "cell_type": "code",
   "execution_count": 14,
   "id": "7ac10229-6b54-4190-ba2e-700289738c5d",
   "metadata": {},
   "outputs": [
    {
     "name": "stdout",
     "output_type": "stream",
     "text": [
      "{'write_query': {'query': 'SELECT COUNT(*) AS NumberOfEmployees FROM Employee'}}\n",
      "{'execute_query': {'result': '[(8,)]'}}\n",
      "{'generate_answer': {'answer': 'There are 8 employees.'}}\n"
     ]
    }
   ],
   "source": [
    "for step in graph.stream(\n",
    "    {\"question\": \"How many employees are there?\"}, stream_mode=\"updates\"\n",
    "):\n",
    "    print(step)"
   ]
  },
  {
   "cell_type": "markdown",
   "id": "d6dcd732-535b-42ea-a5b4-efb82047230e",
   "metadata": {},
   "source": [
    "### 人机协同循环（Human-in-the-loop）  \n",
    "LangGraph 支持多项对此工作流有用的特性。其中之一便是“人机协同循环”：我们可以在某些敏感步骤（例如执行 SQL 查询）之前中断应用程序，以供人工审核。  \n",
    "这一功能由 LangGraph 的持久化层实现，它可以将运行进度保存到你选择的存储中。  \n",
    "以下示例中，我们指定使用内存中的存储："
   ]
  },
  {
   "cell_type": "code",
   "execution_count": 15,
   "id": "1c5dbadc-0a06-4f5e-bd76-f1e4107270e9",
   "metadata": {},
   "outputs": [],
   "source": [
    "from langgraph.checkpoint.memory import MemorySaver\n",
    "\n",
    "memory = MemorySaver()\n",
    "graph = graph_builder.compile(checkpointer=memory, interrupt_before=[\"execute_query\"])\n",
    "\n",
    "# Now that we're using persistence, we need to specify a thread ID\n",
    "# so that we can continue the run after review.\n",
    "config = {\"configurable\": {\"thread_id\": \"1\"}}"
   ]
  },
  {
   "cell_type": "code",
   "execution_count": 16,
   "id": "7b6436dd-a758-4fd7-9e2a-163c9929acf6",
   "metadata": {},
   "outputs": [
    {
     "data": {
      "image/png": "[encoded data removed]",
      "text/plain": [
       "<IPython.core.display.Image object>"
      ]
     },
     "metadata": {},
     "output_type": "display_data"
    }
   ],
   "source": [
    "display(Image(graph.get_graph().draw_mermaid_png()))"
   ]
  },
  {
   "cell_type": "markdown",
   "id": "31e4fbe7-74e8-42b3-a3cf-f9d93849b1ac",
   "metadata": {},
   "source": [
    "让我们重复相同的运行过程，并添加一个简单的“是/否”审批步骤：\n",
    "```\n",
    "INSERT INTO [Track] ([TrackId], [Name], [AlbumId], [MediaTypeId], [GenreId], [Composer], [Milliseconds], [Bytes], [UnitPrice]) VALUES\n",
    "    (1, 'For Those About To Rock (We Salute You)', 1, 1, 1, 'Angus Young, Malcolm Young, Brian Johnson', 343719, 11170334, 0.99),\n",
    "    (2, 'Balls to the Wall', 2, 2, 1, 'U. Dirkschneider, W. Hoffmann, H. Frank, P. Baltes, S. Kaufmann, G. Hoffmann', 342562, 5510424, 0.99),\n",
    "\n",
    "INSERT INTO [Genre] ([GenreId], [Name]) VALUES\n",
    "    (1, 'Rock'),\n",
    "    (2, 'Jazz'),\n",
    "    (3, 'Metal'),\n",
    "    (4, 'Alternative & Punk'),\n",
    "    (5, 'Rock And Roll'),\n",
    "    (6, 'Blues'),\n",
    "    (7, 'Latin'),\n",
    "    (8, 'Reggae'),\n",
    "    (9, 'Pop'),\n",
    "```"
   ]
  },
  {
   "cell_type": "code",
   "execution_count": 18,
   "id": "871efeee-b7c6-4452-9fd4-521bcd93ad80",
   "metadata": {},
   "outputs": [
    {
     "name": "stdout",
     "output_type": "stream",
     "text": [
      "{'write_query': {'query': 'SELECT COUNT(*) AS RockSongsCount FROM Track WHERE GenreId = 1'}}\n",
      "{'__interrupt__': ()}\n"
     ]
    },
    {
     "name": "stdin",
     "output_type": "stream",
     "text": [
      "您想去执行查询吗？（是/否）：  y\n"
     ]
    },
    {
     "name": "stdout",
     "output_type": "stream",
     "text": [
      "{'execute_query': {'result': '[(1297,)]'}}\n",
      "{'generate_answer': {'answer': '有 **1297** 首摇滚曲目。'}}\n"
     ]
    }
   ],
   "source": [
    "for step in graph.stream(\n",
    "    {\"question\": \"有多少首摇滚曲目?\"},\n",
    "    config,\n",
    "    stream_mode=\"updates\",\n",
    "):\n",
    "    print(step)\n",
    "\n",
    "try:\n",
    "    user_approval = input(\"您想去执行查询吗？（是/否）： \")\n",
    "except Exception:\n",
    "    user_approval = \"n\"\n",
    "\n",
    "if user_approval.lower() == \"y\":\n",
    "    # If approved, continue the graph execution\n",
    "    for step in graph.stream(None, config, stream_mode=\"updates\"):\n",
    "        print(step)\n",
    "else:\n",
    "    print(\"操作被用户取消。\")"
   ]
  },
  {
   "cell_type": "markdown",
   "id": "124ab346-34ad-43f1-be3c-f34bf64eb47c",
   "metadata": {},
   "source": [
    "### 智能代理（Agents）\n",
    "\n",
    "智能代理利用大语言模型（LLMs）的推理能力，在执行过程中进行决策。使用代理可以将查询生成和执行过程中的更多判断权交给模型。虽然它们的行为相比前述“链式”方法（chain）更不可预测，但它们也具有一些优势：\n",
    "\n",
    "- 它们可以根据需要多次查询数据库，以回答用户的问题。  \n",
    "- 它们可以通过运行生成的查询、捕获错误回溯并重新生成正确查询来从错误中恢复。  \n",
    "- 它们可以根据数据库的结构（schema）以及数据库中的内容来回答问题（例如描述某个特定表的结构）。  \n",
    "\n",
    "下面我们构建一个最简单的 SQL 代理。我们将使用 LangChain 的 `SQLDatabaseToolkit` 为其配备一组工具。借助 LangGraph 预构建的 ReAct 代理构造器，我们可以在一行代码中完成这一操作。\n",
    "\n",
    "SQLDatabaseToolkit 包含以下功能的工具：\n",
    "\n",
    "- 创建并执行查询  \n",
    "- 检查查询语法  \n",
    "- 获取表的描述  \n",
    "- 以及其他更多功能"
   ]
  },
  {
   "cell_type": "code",
   "execution_count": 19,
   "id": "593576f3-3c20-4770-b3d2-ff0566dac2a4",
   "metadata": {},
   "outputs": [
    {
     "data": {
      "text/plain": [
       "[QuerySQLDatabaseTool(description=\"Input to this tool is a detailed and correct SQL query, output is a result from the database. If the query is not correct, an error message will be returned. If an error is returned, rewrite the query, check the query, and try again. If you encounter an issue with Unknown column 'xxxx' in 'field list', use sql_db_schema to query the correct table fields.\", db=<langchain_community.utilities.sql_database.SQLDatabase object at 0x000001CE24DADDD0>),\n",
       " InfoSQLDatabaseTool(description='Input to this tool is a comma-separated list of tables, output is the schema and sample rows for those tables. Be sure that the tables actually exist by calling sql_db_list_tables first! Example Input: table1, table2, table3', db=<langchain_community.utilities.sql_database.SQLDatabase object at 0x000001CE24DADDD0>),\n",
       " ListSQLDatabaseTool(db=<langchain_community.utilities.sql_database.SQLDatabase object at 0x000001CE24DADDD0>),\n",
       " QuerySQLCheckerTool(description='Use this tool to double check if your query is correct before executing it. Always use this tool before executing a query with sql_db_query!', db=<langchain_community.utilities.sql_database.SQLDatabase object at 0x000001CE24DADDD0>, llm=ChatTongyi(name='qwen-turbo', client=<class 'dashscope.aigc.generation.Generation'>, model_kwargs={}, dashscope_api_key=SecretStr('**********'), streaming=True), llm_chain=LLMChain(verbose=False, prompt=PromptTemplate(input_variables=['dialect', 'query'], input_types={}, partial_variables={}, template='\\n{query}\\nDouble check the {dialect} query above for common mistakes, including:\\n- Using NOT IN with NULL values\\n- Using UNION when UNION ALL should have been used\\n- Using BETWEEN for exclusive ranges\\n- Data type mismatch in predicates\\n- Properly quoting identifiers\\n- Using the correct number of arguments for functions\\n- Casting to the correct data type\\n- Using the proper columns for joins\\n\\nIf there are any of the above mistakes, rewrite the query. If there are no mistakes, just reproduce the original query.\\n\\nOutput the final SQL query only.\\n\\nSQL Query: '), llm=ChatTongyi(name='qwen-turbo', client=<class 'dashscope.aigc.generation.Generation'>, model_kwargs={}, dashscope_api_key=SecretStr('**********'), streaming=True), output_parser=StrOutputParser(), llm_kwargs={}))]"
      ]
     },
     "execution_count": 19,
     "metadata": {},
     "output_type": "execute_result"
    }
   ],
   "source": [
    "from langchain_community.agent_toolkits import SQLDatabaseToolkit\n",
    "\n",
    "toolkit = SQLDatabaseToolkit(db=db, llm=llm)\n",
    "\n",
    "tools = toolkit.get_tools()\n",
    "\n",
    "tools"
   ]
  },
  {
   "cell_type": "markdown",
   "id": "79d2068d-5fc8-4a33-9979-b9aeefeb5c57",
   "metadata": {},
   "source": [
    "**系统提示词（System Prompt）**\n",
    "\n",
    "我们还希望为智能体加载一个系统提示词。这将包含代理应遵循的行为指令。请注意，下面的提示词包含多个参数，我们将在下方进行赋值。"
   ]
  },
  {
   "cell_type": "code",
   "execution_count": 31,
   "id": "348e9e6a-5254-49ab-9602-50f6c7eac26c",
   "metadata": {},
   "outputs": [],
   "source": [
    "# 你是一个专门用于与 SQL 数据库交互的代理。\n",
    "# 根据输入的问题，生成一个语法正确的 {dialect} 查询语句并执行，\n",
    "# 然后查看查询结果并返回答案。除非用户明确指定了想要获取的具体示例数量，\n",
    "# 否则你的查询结果最多限制为 {top_k} 条。\n",
    "# 你可以通过相关列对结果进行排序，以返回数据库中最有意义的示例。\n",
    "# 不要从某个特定表中查询所有列，只选择与问题相关的列进行查询。\n",
    "# 在执行查询之前，你必须仔细检查你的查询语句。如果在执行过程中出现错误，\n",
    "# 请重写查询并再次尝试。\n",
    "# 禁止向数据库发送任何数据操作语言（DML）语句（如 INSERT、UPDATE、DELETE、DROP 等）。\n",
    "# 开始时，你始终应该首先查看数据库中的表，了解你可以查询哪些内容。\n",
    "# 不要跳过这一步。\n",
    "# 接着，你应该查询最相关表的结构（schema）。\n",
    "\n",
    "system_message = \"\"\"\n",
    "You are an agent designed to interact with a SQL database.\n",
    "Given an input question, create a syntactically correct {dialect} query to run,\n",
    "then look at the results of the query and return the answer. Unless the user\n",
    "specifies a specific number of examples they wish to obtain, always limit your\n",
    "query to at most {top_k} results.\n",
    "\n",
    "You can order the results by a relevant column to return the most interesting\n",
    "examples in the database. Never query for all the columns from a specific table,\n",
    "only ask for the relevant columns given the question.\n",
    "\n",
    "You MUST double check your query before executing it. If you get an error while\n",
    "executing a query, rewrite the query and try again.\n",
    "\n",
    "DO NOT make any DML statements (INSERT, UPDATE, DELETE, DROP etc.) to the\n",
    "database.\n",
    "\n",
    "To start you should ALWAYS look at the tables in the database to see what you\n",
    "can query. Do NOT skip this step.\n",
    "\n",
    "Then you should query the schema of the most relevant tables.\n",
    "\"\"\".format(\n",
    "    dialect=\"SQLite\",\n",
    "    top_k=5,\n",
    ")"
   ]
  },
  {
   "cell_type": "markdown",
   "id": "a1311230-001f-435e-bfeb-fafd5a7e459e",
   "metadata": {},
   "source": [
    "**初始化智能体**\n",
    "\n",
    "我们将使用一个预构建的 LangGraph 代理来创建我们的代理。"
   ]
  },
  {
   "cell_type": "code",
   "execution_count": 21,
   "id": "27e5eb1c-c45c-4f42-afe6-5e70de3fcd9d",
   "metadata": {},
   "outputs": [],
   "source": [
    "from langchain_core.messages import HumanMessage\n",
    "from langgraph.prebuilt import create_react_agent\n",
    "\n",
    "agent_executor = create_react_agent(llm, tools, prompt=system_message)"
   ]
  },
  {
   "cell_type": "code",
   "execution_count": 22,
   "id": "c1f7a970-751f-4164-a221-90ed2f7e363d",
   "metadata": {},
   "outputs": [
    {
     "name": "stdout",
     "output_type": "stream",
     "text": [
      "================================\u001b[1m Human Message \u001b[0m=================================\n",
      "\n",
      "哪个国家的客户花费最多?\n",
      "==================================\u001b[1m Ai Message \u001b[0m==================================\n",
      "Tool Calls:\n",
      "  sql_db_list_tables (call_4df5b22b68d54e9e89753dcall_4df5b22b68d54e9e89753d)\n",
      " Call ID: call_4df5b22b68d54e9e89753dcall_4df5b22b68d54e9e89753d\n",
      "  Args:\n",
      "=================================\u001b[1m Tool Message \u001b[0m=================================\n",
      "Name: sql_db_list_tables\n",
      "\n",
      "Album, Artist, Customer, Employee, Genre, Invoice, InvoiceLine, MediaType, Playlist, PlaylistTrack, Track\n",
      "==================================\u001b[1m Ai Message \u001b[0m==================================\n",
      "Tool Calls:\n",
      "  sql_db_schema (call_a9c0ee4a7bd14736ac6d76call_a9c0ee4a7bd14736ac6d76call_a9c0ee4a7bd14736ac6d76call_a9c0ee4a7bd14736ac6d76)\n",
      " Call ID: call_a9c0ee4a7bd14736ac6d76call_a9c0ee4a7bd14736ac6d76call_a9c0ee4a7bd14736ac6d76call_a9c0ee4a7bd14736ac6d76\n",
      "  Args:\n",
      "    table_names: Customer\n",
      "=================================\u001b[1m Tool Message \u001b[0m=================================\n",
      "Name: sql_db_schema\n",
      "\n",
      "\n",
      "CREATE TABLE \"Customer\" (\n",
      "\t\"CustomerId\" INTEGER NOT NULL, \n",
      "\t\"FirstName\" NVARCHAR(40) NOT NULL, \n",
      "\t\"LastName\" NVARCHAR(20) NOT NULL, \n",
      "\t\"Company\" NVARCHAR(80), \n",
      "\t\"Address\" NVARCHAR(70), \n",
      "\t\"City\" NVARCHAR(40), \n",
      "\t\"State\" NVARCHAR(40), \n",
      "\t\"Country\" NVARCHAR(40), \n",
      "\t\"PostalCode\" NVARCHAR(10), \n",
      "\t\"Phone\" NVARCHAR(24), \n",
      "\t\"Fax\" NVARCHAR(24), \n",
      "\t\"Email\" NVARCHAR(60) NOT NULL, \n",
      "\t\"SupportRepId\" INTEGER, \n",
      "\tPRIMARY KEY (\"CustomerId\"), \n",
      "\tFOREIGN KEY(\"SupportRepId\") REFERENCES \"Employee\" (\"EmployeeId\")\n",
      ")\n",
      "\n",
      "/*\n",
      "3 rows from Customer table:\n",
      "CustomerId\tFirstName\tLastName\tCompany\tAddress\tCity\tState\tCountry\tPostalCode\tPhone\tFax\tEmail\tSupportRepId\n",
      "1\tLuís\tGonçalves\tEmbraer - Empresa Brasileira de Aeronáutica S.A.\tAv. Brigadeiro Faria Lima, 2170\tSão José dos Campos\tSP\tBrazil\t12227-000\t+55 (12) 3923-5555\t+55 (12) 3923-5566\tluisg@embraer.com.br\t3\n",
      "2\tLeonie\tKöhler\tNone\tTheodor-Heuss-Straße 34\tStuttgart\tNone\tGermany\t70174\t+49 0711 2842222\tNone\tleonekohler@surfeu.de\t5\n",
      "3\tFrançois\tTremblay\tNone\t1498 rue Bélanger\tMontréal\tQC\tCanada\tH2G 1A7\t+1 (514) 721-4711\tNone\tftremblay@gmail.com\t3\n",
      "*/\n",
      "==================================\u001b[1m Ai Message \u001b[0m==================================\n",
      "Tool Calls:\n",
      "  sql_db_schema (call_b516d128054e4be897eb47call_b516d128054e4be897eb47call_b516d128054e4be897eb47call_b516d128054e4be897eb47)\n",
      " Call ID: call_b516d128054e4be897eb47call_b516d128054e4be897eb47call_b516d128054e4be897eb47call_b516d128054e4be897eb47\n",
      "  Args:\n",
      "    table_names: Invoice\n",
      "=================================\u001b[1m Tool Message \u001b[0m=================================\n",
      "Name: sql_db_schema\n",
      "\n",
      "\n",
      "CREATE TABLE \"Invoice\" (\n",
      "\t\"InvoiceId\" INTEGER NOT NULL, \n",
      "\t\"CustomerId\" INTEGER NOT NULL, \n",
      "\t\"InvoiceDate\" DATETIME NOT NULL, \n",
      "\t\"BillingAddress\" NVARCHAR(70), \n",
      "\t\"BillingCity\" NVARCHAR(40), \n",
      "\t\"BillingState\" NVARCHAR(40), \n",
      "\t\"BillingCountry\" NVARCHAR(40), \n",
      "\t\"BillingPostalCode\" NVARCHAR(10), \n",
      "\t\"Total\" NUMERIC(10, 2) NOT NULL, \n",
      "\tPRIMARY KEY (\"InvoiceId\"), \n",
      "\tFOREIGN KEY(\"CustomerId\") REFERENCES \"Customer\" (\"CustomerId\")\n",
      ")\n",
      "\n",
      "/*\n",
      "3 rows from Invoice table:\n",
      "InvoiceId\tCustomerId\tInvoiceDate\tBillingAddress\tBillingCity\tBillingState\tBillingCountry\tBillingPostalCode\tTotal\n",
      "1\t2\t2021-01-01 00:00:00\tTheodor-Heuss-Straße 34\tStuttgart\tNone\tGermany\t70174\t1.98\n",
      "2\t4\t2021-01-02 00:00:00\tUllevålsveien 14\tOslo\tNone\tNorway\t0171\t3.96\n",
      "3\t8\t2021-01-03 00:00:00\tGrétrystraat 63\tBrussels\tNone\tBelgium\t1000\t5.94\n",
      "*/\n",
      "==================================\u001b[1m Ai Message \u001b[0m==================================\n",
      "Tool Calls:\n",
      "  sql_db_query_checker (call_28a65bd751e64cb7a32180call_28a65bd751e64cb7a32180call_28a65bd751e64cb7a32180call_28a65bd751e64cb7a32180call_28a65bd751e64cb7a32180call_28a65bd751e64cb7a32180call_28a65bd751e64cb7a32180call_28a65bd751e64cb7a32180call_28a65bd751e64cb7a32180call_28a65bd751e64cb7a32180call_28a65bd751e64cb7a32180call_28a65bd751e64cb7a32180call_28a65bd751e64cb7a32180)\n",
      " Call ID: call_28a65bd751e64cb7a32180call_28a65bd751e64cb7a32180call_28a65bd751e64cb7a32180call_28a65bd751e64cb7a32180call_28a65bd751e64cb7a32180call_28a65bd751e64cb7a32180call_28a65bd751e64cb7a32180call_28a65bd751e64cb7a32180call_28a65bd751e64cb7a32180call_28a65bd751e64cb7a32180call_28a65bd751e64cb7a32180call_28a65bd751e64cb7a32180call_28a65bd751e64cb7a32180\n",
      "  Args:\n",
      "    query: SELECT Customer.Country, SUM(Invoice.Total) AS Total_Spent FROM Customer JOIN Invoice ON Customer.CustomerId = Invoice.CustomerId GROUP BY Customer.Country ORDER BY Total_Spent DESC LIMIT 5\n",
      "=================================\u001b[1m Tool Message \u001b[0m=================================\n",
      "Name: sql_db_query_checker\n",
      "\n",
      "```sql\n",
      "SELECT Customer.Country, SUM(Invoice.Total) AS Total_Spent \n",
      "FROM Customer \n",
      "JOIN Invoice ON Customer.CustomerId = Invoice.CustomerId \n",
      "GROUP BY Customer.Country \n",
      "ORDER BY Total_Spent DESC \n",
      "LIMIT 5\n",
      "```\n",
      "==================================\u001b[1m Ai Message \u001b[0m==================================\n",
      "Tool Calls:\n",
      "  sql_db_query (call_e4fca81372ed47d484fc4dcall_e4fca81372ed47d484fc4dcall_e4fca81372ed47d484fc4dcall_e4fca81372ed47d484fc4dcall_e4fca81372ed47d484fc4dcall_e4fca81372ed47d484fc4dcall_e4fca81372ed47d484fc4dcall_e4fca81372ed47d484fc4dcall_e4fca81372ed47d484fc4dcall_e4fca81372ed47d484fc4dcall_e4fca81372ed47d484fc4dcall_e4fca81372ed47d484fc4dcall_e4fca81372ed47d484fc4d)\n",
      " Call ID: call_e4fca81372ed47d484fc4dcall_e4fca81372ed47d484fc4dcall_e4fca81372ed47d484fc4dcall_e4fca81372ed47d484fc4dcall_e4fca81372ed47d484fc4dcall_e4fca81372ed47d484fc4dcall_e4fca81372ed47d484fc4dcall_e4fca81372ed47d484fc4dcall_e4fca81372ed47d484fc4dcall_e4fca81372ed47d484fc4dcall_e4fca81372ed47d484fc4dcall_e4fca81372ed47d484fc4dcall_e4fca81372ed47d484fc4d\n",
      "  Args:\n",
      "    query: SELECT Customer.Country, SUM(Invoice.Total) AS Total_Spent FROM Customer JOIN Invoice ON Customer.CustomerId = Invoice.CustomerId GROUP BY Customer.Country ORDER BY Total_Spent DESC LIMIT 5\n",
      "=================================\u001b[1m Tool Message \u001b[0m=================================\n",
      "Name: sql_db_query\n",
      "\n",
      "[('USA', 523.06), ('Canada', 303.96), ('France', 195.1), ('Brazil', 190.1), ('Germany', 156.48)]\n",
      "==================================\u001b[1m Ai Message \u001b[0m==================================\n",
      "\n",
      "美国的客户花费最多，总花费为523.06。以下是按花费排序的前五个国家：\n",
      "\n",
      "1. 美国, 总花费: 523.06\n",
      "2. 加拿大, 总花费: 303.96\n",
      "3. 法国, 总花费: 195.1\n",
      "4. 巴西, 总花费: 190.1\n",
      "5. 德国, 总花费: 156.48\n"
     ]
    }
   ],
   "source": [
    "question = \"哪个国家的客户花费最多?\"\n",
    "\n",
    "for step in agent_executor.stream(\n",
    "    {\"messages\": [{\"role\": \"user\", \"content\": question}]},\n",
    "    stream_mode=\"values\",\n",
    "):\n",
    "    step[\"messages\"][-1].pretty_print()"
   ]
  },
  {
   "cell_type": "markdown",
   "id": "132fd4df-a7b0-47ac-99b6-ad91882370df",
   "metadata": {},
   "source": [
    "请注意，该代理会执行多个查询，直到获得所需的信息为止：\n",
    "\n",
    "- 列出可用的表；\n",
    "- 获取三个表的结构（schema）；\n",
    "- 通过连接操作（join）查询多个表。\n",
    "\n",
    "代理随后可以利用最终查询的结果来生成对原始问题的回答。\n",
    "\n",
    "该代理同样可以处理定性类问题："
   ]
  },
  {
   "cell_type": "code",
   "execution_count": 23,
   "id": "807f68b7-0f99-426d-9960-7a4273caa98d",
   "metadata": {},
   "outputs": [
    {
     "name": "stdout",
     "output_type": "stream",
     "text": [
      "================================\u001b[1m Human Message \u001b[0m=================================\n",
      "\n",
      "描述播放列表曲目\n",
      "==================================\u001b[1m Ai Message \u001b[0m==================================\n",
      "Tool Calls:\n",
      "  sql_db_list_tables (call_6c7963dc6d5f415db0485bcall_6c7963dc6d5f415db0485b)\n",
      " Call ID: call_6c7963dc6d5f415db0485bcall_6c7963dc6d5f415db0485b\n",
      "  Args:\n",
      "=================================\u001b[1m Tool Message \u001b[0m=================================\n",
      "Name: sql_db_list_tables\n",
      "\n",
      "Album, Artist, Customer, Employee, Genre, Invoice, InvoiceLine, MediaType, Playlist, PlaylistTrack, Track\n",
      "==================================\u001b[1m Ai Message \u001b[0m==================================\n",
      "\n",
      "在数据库中存在多个表，其中可能与播放列表曲目相关的表有Playlist, Track和PlaylistTrack。为了查询播放列表中的曲目信息，我们需要查看这些表的结构。\n",
      "\n",
      "接下来，我将查询这些表的结构。\n",
      "Tool Calls:\n",
      "  sql_db_schema (call_63f1049c54cf4fd7956825call_63f1049c54cf4fd7956825call_63f1049c54cf4fd7956825call_63f1049c54cf4fd7956825call_63f1049c54cf4fd7956825)\n",
      " Call ID: call_63f1049c54cf4fd7956825call_63f1049c54cf4fd7956825call_63f1049c54cf4fd7956825call_63f1049c54cf4fd7956825call_63f1049c54cf4fd7956825\n",
      "  Args:\n",
      "    table_names: Playlist,Track,PlaylistTrack\n",
      "=================================\u001b[1m Tool Message \u001b[0m=================================\n",
      "Name: sql_db_schema\n",
      "\n",
      "\n",
      "CREATE TABLE \"Playlist\" (\n",
      "\t\"PlaylistId\" INTEGER NOT NULL, \n",
      "\t\"Name\" NVARCHAR(120), \n",
      "\tPRIMARY KEY (\"PlaylistId\")\n",
      ")\n",
      "\n",
      "/*\n",
      "3 rows from Playlist table:\n",
      "PlaylistId\tName\n",
      "1\tMusic\n",
      "2\tMovies\n",
      "3\tTV Shows\n",
      "*/\n",
      "\n",
      "\n",
      "CREATE TABLE \"PlaylistTrack\" (\n",
      "\t\"PlaylistId\" INTEGER NOT NULL, \n",
      "\t\"TrackId\" INTEGER NOT NULL, \n",
      "\tPRIMARY KEY (\"PlaylistId\", \"TrackId\"), \n",
      "\tFOREIGN KEY(\"TrackId\") REFERENCES \"Track\" (\"TrackId\"), \n",
      "\tFOREIGN KEY(\"PlaylistId\") REFERENCES \"Playlist\" (\"PlaylistId\")\n",
      ")\n",
      "\n",
      "/*\n",
      "3 rows from PlaylistTrack table:\n",
      "PlaylistId\tTrackId\n",
      "1\t3402\n",
      "1\t3389\n",
      "1\t3390\n",
      "*/\n",
      "\n",
      "\n",
      "CREATE TABLE \"Track\" (\n",
      "\t\"TrackId\" INTEGER NOT NULL, \n",
      "\t\"Name\" NVARCHAR(200) NOT NULL, \n",
      "\t\"AlbumId\" INTEGER, \n",
      "\t\"MediaTypeId\" INTEGER NOT NULL, \n",
      "\t\"GenreId\" INTEGER, \n",
      "\t\"Composer\" NVARCHAR(220), \n",
      "\t\"Milliseconds\" INTEGER NOT NULL, \n",
      "\t\"Bytes\" INTEGER, \n",
      "\t\"UnitPrice\" NUMERIC(10, 2) NOT NULL, \n",
      "\tPRIMARY KEY (\"TrackId\"), \n",
      "\tFOREIGN KEY(\"MediaTypeId\") REFERENCES \"MediaType\" (\"MediaTypeId\"), \n",
      "\tFOREIGN KEY(\"GenreId\") REFERENCES \"Genre\" (\"GenreId\"), \n",
      "\tFOREIGN KEY(\"AlbumId\") REFERENCES \"Album\" (\"AlbumId\")\n",
      ")\n",
      "\n",
      "/*\n",
      "3 rows from Track table:\n",
      "TrackId\tName\tAlbumId\tMediaTypeId\tGenreId\tComposer\tMilliseconds\tBytes\tUnitPrice\n",
      "1\tFor Those About To Rock (We Salute You)\t1\t1\t1\tAngus Young, Malcolm Young, Brian Johnson\t343719\t11170334\t0.99\n",
      "2\tBalls to the Wall\t2\t2\t1\tU. Dirkschneider, W. Hoffmann, H. Frank, P. Baltes, S. Kaufmann, G. Hoffmann\t342562\t5510424\t0.99\n",
      "3\tFast As a Shark\t3\t2\t1\tF. Baltes, S. Kaufman, U. Dirkscneider & W. Hoffman\t230619\t3990994\t0.99\n",
      "*/\n",
      "==================================\u001b[1m Ai Message \u001b[0m==================================\n",
      "\n",
      "从Playlist, Track和PlaylistTrack表的结构来看，我们可以看到Playlist表包含了播放列表的信息，Track表包含了曲目的详细信息，而PlaylistTrack表则将这两个表联系起来，它记录了哪些曲目属于哪些播放列表。\n",
      "\n",
      "例如，我们可以查询音乐播放列表（PlaylistId为1）中的曲目信息。我们将使用PlaylistTrack表来获取曲目ID，然后使用Track表来获取曲目详细信息。\n",
      "\n",
      "让我们先检查一下查询是否正确。\n",
      "Tool Calls:\n",
      "  sql_db_query_checker (call_eea63db2e57741baaebe3dcall_eea63db2e57741baaebe3dcall_eea63db2e57741baaebe3dcall_eea63db2e57741baaebe3dcall_eea63db2e57741baaebe3dcall_eea63db2e57741baaebe3dcall_eea63db2e57741baaebe3dcall_eea63db2e57741baaebe3dcall_eea63db2e57741baaebe3dcall_eea63db2e57741baaebe3dcall_eea63db2e57741baaebe3dcall_eea63db2e57741baaebe3dcall_eea63db2e57741baaebe3dcall_eea63db2e57741baaebe3dcall_eea63db2e57741baaebe3dcall_eea63db2e57741baaebe3dcall_eea63db2e57741baaebe3dcall_eea63db2e57741baaebe3dcall_eea63db2e57741baaebe3d)\n",
      " Call ID: call_eea63db2e57741baaebe3dcall_eea63db2e57741baaebe3dcall_eea63db2e57741baaebe3dcall_eea63db2e57741baaebe3dcall_eea63db2e57741baaebe3dcall_eea63db2e57741baaebe3dcall_eea63db2e57741baaebe3dcall_eea63db2e57741baaebe3dcall_eea63db2e57741baaebe3dcall_eea63db2e57741baaebe3dcall_eea63db2e57741baaebe3dcall_eea63db2e57741baaebe3dcall_eea63db2e57741baaebe3dcall_eea63db2e57741baaebe3dcall_eea63db2e57741baaebe3dcall_eea63db2e57741baaebe3dcall_eea63db2e57741baaebe3dcall_eea63db2e57741baaebe3dcall_eea63db2e57741baaebe3d\n",
      "  Args:\n",
      "    query: SELECT t.TrackId, t.Name, t.AlbumId, t.MediaTypeId, t.GenreId, t.Composer, t.Milliseconds, t.Bytes, t.UnitPrice FROM PlaylistTrack pt INNER JOIN Track t ON pt.TrackId = t.TrackId WHERE pt.PlaylistId = 1 LIMIT 5\n",
      "=================================\u001b[1m Tool Message \u001b[0m=================================\n",
      "Name: sql_db_query_checker\n",
      "\n",
      "```sql\n",
      "SELECT t.TrackId, t.Name, t.AlbumId, t.MediaTypeId, t.GenreId, t.Composer, t.Milliseconds, t.Bytes, t.UnitPrice \n",
      "FROM PlaylistTrack pt \n",
      "INNER JOIN Track t ON pt.TrackId = t.TrackId \n",
      "WHERE pt.PlaylistId = 1 \n",
      "LIMIT 5;\n",
      "```\n",
      "==================================\u001b[1m Ai Message \u001b[0m==================================\n",
      "\n",
      "查询看起来是正确的。现在，我将执行这个查询并查看结果。\n",
      "Tool Calls:\n",
      "  sql_db_query (call_6d4a09a2e7494d8ab24a15call_6d4a09a2e7494d8ab24a15call_6d4a09a2e7494d8ab24a15call_6d4a09a2e7494d8ab24a15call_6d4a09a2e7494d8ab24a15call_6d4a09a2e7494d8ab24a15call_6d4a09a2e7494d8ab24a15call_6d4a09a2e7494d8ab24a15call_6d4a09a2e7494d8ab24a15call_6d4a09a2e7494d8ab24a15call_6d4a09a2e7494d8ab24a15call_6d4a09a2e7494d8ab24a15call_6d4a09a2e7494d8ab24a15call_6d4a09a2e7494d8ab24a15call_6d4a09a2e7494d8ab24a15call_6d4a09a2e7494d8ab24a15call_6d4a09a2e7494d8ab24a15call_6d4a09a2e7494d8ab24a15)\n",
      " Call ID: call_6d4a09a2e7494d8ab24a15call_6d4a09a2e7494d8ab24a15call_6d4a09a2e7494d8ab24a15call_6d4a09a2e7494d8ab24a15call_6d4a09a2e7494d8ab24a15call_6d4a09a2e7494d8ab24a15call_6d4a09a2e7494d8ab24a15call_6d4a09a2e7494d8ab24a15call_6d4a09a2e7494d8ab24a15call_6d4a09a2e7494d8ab24a15call_6d4a09a2e7494d8ab24a15call_6d4a09a2e7494d8ab24a15call_6d4a09a2e7494d8ab24a15call_6d4a09a2e7494d8ab24a15call_6d4a09a2e7494d8ab24a15call_6d4a09a2e7494d8ab24a15call_6d4a09a2e7494d8ab24a15call_6d4a09a2e7494d8ab24a15\n",
      "  Args:\n",
      "    query: SELECT t.TrackId, t.Name, t.AlbumId, t.MediaTypeId, t.GenreId, t.Composer, t.Milliseconds, t.Bytes, t.UnitPrice FROM PlaylistTrack pt INNER JOIN Track t ON pt.TrackId = t.TrackId WHERE pt.PlaylistId = 1 LIMIT 5\n",
      "=================================\u001b[1m Tool Message \u001b[0m=================================\n",
      "Name: sql_db_query\n",
      "\n",
      "[(1, 'For Those About To Rock (We Salute You)', 1, 1, 1, 'Angus Young, Malcolm Young, Brian Johnson', 343719, 11170334, 0.99), (2, 'Balls to the Wall', 2, 2, 1, 'U. Dirkschneider, W. Hoffmann, H. Frank, P. Baltes, S. Kaufmann, G. Hoffmann', 342562, 5510424, 0.99), (3, 'Fast As a Shark', 3, 2, 1, 'F. Baltes, S. Kaufman, U. Dirkscneider & W. Hoffman', 230619, 3990994, 0.99), (4, 'Restless and Wild', 3, 2, 1, 'F. Baltes, R.A. Smith-Diesel, S. Kaufman, U. Dirkscneider & W. Hoffman', 252051, 4331779, 0.99), (5, 'Princess of the Dawn', 3, 2, 1, 'Deaffy & R.A. Smith-Diesel', 375418, 6290521, 0.99)]\n",
      "==================================\u001b[1m Ai Message \u001b[0m==================================\n",
      "\n",
      "播放列表ID为1的音乐播放列表包含以下曲目：\n",
      "\n",
      "1. 曲目ID: 1, 曲目名: 'For Those About To Rock (We Salute You)', 所属专辑ID: 1, 媒体类型ID: 1, 风格ID: 1, 创作者: 'Angus Young, Malcolm Young, Brian Johnson', 毫秒时长: 343719, 字节数: 11170334, 单价: 0.99\n",
      "2. 曲目ID: 2, 曲目名: 'Balls to the Wall', 所属专辑ID: 2, 媒体类型ID: 2, 风格ID: 1, 创作者: 'U. Dirkschneider, W. Hoffmann, H. Frank, P. Baltes, S. Kaufmann, G. Hoffmann', 毫秒时长: 342562, 字节数: 5510424, 单价: 0.99\n",
      "3. 曲目ID: 3, 曲目名: 'Fast As a Shark', 所属专辑ID: 3, 媒体类型ID: 2, 风格ID: 1, 创作者: 'F. Baltes, S. Kaufman, U. Dirkscneider & W. Hoffman', 毫秒时长: 230619, 字节数: 3990994, 单价: 0.99\n",
      "4. 曲目ID: 4, 曲目名: 'Restless and Wild', 所属专辑ID: 3, 媒体类型ID: 2, 风格ID: 1, 创作者: 'F. Baltes, R.A. Smith-Diesel, S. Kaufman, U. Dirkscneider & W. Hoffman', 毫秒时长: 252051, 字节数: 4331779, 单价: 0.99\n",
      "5. 曲目ID: 5, 曲目名: 'Princess of the Dawn', 所属专辑ID: 3, 媒体类型ID: 2, 风格ID: 1, 创作者: 'Deaffy & R.A. Smith-Diesel', 毫秒时长: 375418, 字节数: 6290521, 单价: 0.99\n",
      "\n",
      "这些是音乐播放列表中的前五首曲目。\n"
     ]
    }
   ],
   "source": [
    "question = \"描述播放列表曲目\"\n",
    "\n",
    "for step in agent_executor.stream(\n",
    "    {\"messages\": [{\"role\": \"user\", \"content\": question}]},\n",
    "    stream_mode=\"values\",\n",
    "):\n",
    "    step[\"messages\"][-1].pretty_print()"
   ]
  },
  {
   "cell_type": "markdown",
   "id": "1d2bc3af-aaeb-4416-851f-70704337fd76",
   "metadata": {},
   "source": [
    "**处理高基数列（High-cardinality Columns）**\n",
    "\n",
    "为了对包含专有名词（如地址、歌曲名或艺术家名）的列进行筛选，我们首先需要检查拼写是否正确，以便准确地过滤数据。\n",
    "\n",
    "我们可以通过创建一个包含数据库中所有不同专有名词的向量存储（vector store）来实现这一点。然后，每当用户在问题中使用了一个专有名词时，我们可以让代理查询这个向量存储，以找到该词的正确拼写。通过这种方式，代理可以在构建目标查询之前，确保自己理解用户所指的是哪个实体。\n",
    "\n",
    "首先，我们需要获取每个想要的实体的唯一值，为此我们定义一个函数，将查询结果解析为元素列表："
   ]
  },
  {
   "cell_type": "code",
   "execution_count": 24,
   "id": "e961b690-b920-4491-ae9a-80ab653ef43d",
   "metadata": {},
   "outputs": [
    {
     "data": {
      "text/plain": [
       "['A TempestadeTempestade Ou O Livro Dos Dias',\n",
       " 'The Number of The Beast',\n",
       " 'Bach: Toccata & Fugue in D Minor',\n",
       " 'Vozes do MPB',\n",
       " 'Bach: Orchestral Suites Nos.  -']"
      ]
     },
     "execution_count": 24,
     "metadata": {},
     "output_type": "execute_result"
    }
   ],
   "source": [
    "import ast\n",
    "import re\n",
    "\n",
    "\n",
    "def query_as_list(db, query):\n",
    "    res = db.run(query)\n",
    "    res = [el for sub in ast.literal_eval(res) for el in sub if el]\n",
    "    res = [re.sub(r\"\\b\\d+\\b\", \"\", string).strip() for string in res]\n",
    "    return list(set(res))\n",
    "\n",
    "\n",
    "artists = query_as_list(db, \"SELECT Name FROM Artist\")\n",
    "albums = query_as_list(db, \"SELECT Title FROM Album\")\n",
    "albums[:5]"
   ]
  },
  {
   "cell_type": "markdown",
   "id": "0c5cc55a-0bcd-4d37-a853-824c6a9a4d98",
   "metadata": {},
   "source": [
    "#### 逐行解析：\n",
    "\n",
    "- `res = db.run(query)`  \n",
    "  执行传入的 SQL 查询语句，并将结果保存在 `res` 中。  \n",
    "  假设返回的是字符串形式的结果，比如类似 `[('Artist1',), ('Artist2',)]` 的结构。\n",
    "\n",
    "- `res = [el for sub in ast.literal_eval(res) for el in sub if el]`  \n",
    "  使用 `ast.literal_eval()` 将字符串形式的结果转换为 Python 列表/元组结构，  \n",
    "  然后通过列表推导式提取每个子项中的元素（例如 `'Artist1'`），并过滤掉空值。\n",
    "\n",
    "- `res = [re.sub(r\"\\b\\d+\\b\", \"\", string).strip() for string in res]`  \n",
    "  使用正则表达式去掉字符串中的独立数字（`\\b\\d+\\b` 表示被单词边界包围的数字），  \n",
    "  然后使用 `.strip()` 去除首尾的空白字符。\n",
    "\n",
    "- `return list(set(res))`  \n",
    "  返回一个去重后的列表（通过 `set` 去重，再转回 `list`）。\n",
    "\n",
    "---\n",
    "\n",
    "### **3. 查询数据库中的艺术家和专辑名称**\n",
    "\n",
    "```python\n",
    "artists = query_as_list(db, \"SELECT Name FROM Artist\")\n",
    "albums = query_as_list(db, \"SELECT Title FROM Album\")\n",
    "```\n",
    "\n",
    "- 这两行分别从数据库中查询出所有艺术家的名字和专辑的标题，并调用 `query_as_list` 函数对结果进行清洗和去重。\n",
    "\n",
    "---\n",
    "\n",
    "### **4. 显示前5个专辑标题**\n",
    "\n",
    "```python\n",
    "albums[:5]\n",
    "```\n",
    "\n",
    "- 显示 `albums` 列表中的前5个元素，通常用于快速查看数据内容。\n",
    "\n",
    "---\n",
    "\n",
    "### ✅ 总结\n",
    "\n",
    "这段代码的主要作用是：\n",
    "\n",
    "1. 从数据库中查询出艺术家名和专辑标题；\n",
    "2. 清洗这些数据（如去除数字、空值）；\n",
    "3. 去重后以列表形式返回；\n",
    "4. 最后展示部分结果以便检查。\n",
    "\n",
    "这在构建向量存储或实体识别系统时非常有用，尤其是在处理高基数列（如歌曲名、艺术家名等）时。"
   ]
  },
  {
   "cell_type": "code",
   "execution_count": 26,
   "id": "bdf5d625-db0b-49f2-aac8-284d4a53539c",
   "metadata": {},
   "outputs": [],
   "source": [
    "from langchain_community.embeddings.dashscope import DashScopeEmbeddings\n",
    "# 初始化 Qwen Embedding 模型\n",
    "embeddings = DashScopeEmbeddings(model=\"text-embedding-v1\")  "
   ]
  },
  {
   "cell_type": "code",
   "execution_count": 27,
   "id": "f7d4c89c-62ef-419c-83ca-ab313056834d",
   "metadata": {},
   "outputs": [],
   "source": [
    "from langchain_core.vectorstores import InMemoryVectorStore\n",
    "\n",
    "vector_store = InMemoryVectorStore(embeddings)"
   ]
  },
  {
   "cell_type": "markdown",
   "id": "ed26b55e-9592-483a-b1d1-14b39b68a522",
   "metadata": {},
   "source": [
    "我们现在可以构建一个检索工具，可以搜索数据库中的相关专有名词："
   ]
  },
  {
   "cell_type": "code",
   "execution_count": 28,
   "id": "22af1876-00a6-4e15-b9af-4515853a0365",
   "metadata": {},
   "outputs": [],
   "source": [
    "from langchain.agents.agent_toolkits import create_retriever_tool\n",
    "\n",
    "_ = vector_store.add_texts(artists + albums)\n",
    "retriever = vector_store.as_retriever(search_kwargs={\"k\": 5})\n",
    "# 用于查找需要过滤的值。输入是对专有名词的近似拼写，输出是有效的专有名词。请使用与搜索词最相似的名词。\n",
    "description = (\n",
    "    \"Use to look up values to filter on. Input is an approximate spelling \"\n",
    "    \"of the proper noun, output is valid proper nouns. Use the noun most \"\n",
    "    \"similar to the search.\"\n",
    ")\n",
    "retriever_tool = create_retriever_tool(\n",
    "    retriever,\n",
    "    name=\"search_proper_nouns\",\n",
    "    description=description,\n",
    ")"
   ]
  },
  {
   "cell_type": "code",
   "execution_count": 29,
   "id": "e1f08cc6-f0a9-42d7-b73d-90ffebf69cdb",
   "metadata": {},
   "outputs": [
    {
     "name": "stdout",
     "output_type": "stream",
     "text": [
      "Alice In Chains\n",
      "\n",
      "Adrian Leaper & Doreen de Feis\n",
      "\n",
      "Chill: Brazil (Disc )\n",
      "\n",
      "Elis Regina-Minha História\n",
      "\n",
      "Christina Aguilera featuring BigElf\n"
     ]
    }
   ],
   "source": [
    "print(retriever_tool.invoke(\"Alice Chains\"))"
   ]
  },
  {
   "cell_type": "markdown",
   "id": "fdc01b9f-40e7-47be-98cc-c30378015104",
   "metadata": {},
   "source": [
    "这样，如果代理确定需要按照“Alice Chains”的思路编写基于艺术家的过滤器，它可以首先使用检索器工具来观察列的相关值。\n",
    "\n",
    "将其放在一起："
   ]
  },
  {
   "cell_type": "code",
   "execution_count": 32,
   "id": "91286c24-d420-474d-b77e-7c8e64daea30",
   "metadata": {},
   "outputs": [],
   "source": [
    "# 如果需要根据专有名词（如名称）进行过滤，你必须始终首先使用 `search_proper_nouns` 工具查找过滤值！\n",
    "# 不要尝试猜测正确的名称——请使用这个工具来查找相似的名称。”\n",
    "suffix = (\n",
    "    \"If you need to filter on a proper noun like a Name, you must ALWAYS first look up \"\n",
    "    \"the filter value using the 'search_proper_nouns' tool! Do not try to \"\n",
    "    \"guess at the proper name - use this function to find similar ones.\"\n",
    ")\n",
    "\n",
    "system = f\"{system_message}\\n\\n{suffix}\"\n",
    "\n",
    "tools.append(retriever_tool)\n",
    "\n",
    "agent = create_react_agent(llm, tools, prompt=system)"
   ]
  },
  {
   "cell_type": "code",
   "execution_count": 33,
   "id": "0ddc9a5f-c2ff-45c3-83c1-e87619d67ca8",
   "metadata": {},
   "outputs": [
    {
     "name": "stdout",
     "output_type": "stream",
     "text": [
      "================================\u001b[1m Human Message \u001b[0m=================================\n",
      "\n",
      "Alis in chain 有多少张专辑?\n",
      "==================================\u001b[1m Ai Message \u001b[0m==================================\n",
      "Tool Calls:\n",
      "  sql_db_list_tables (call_f54cd9445610451cad794ccall_f54cd9445610451cad794c)\n",
      " Call ID: call_f54cd9445610451cad794ccall_f54cd9445610451cad794c\n",
      "  Args:\n",
      "=================================\u001b[1m Tool Message \u001b[0m=================================\n",
      "Name: sql_db_list_tables\n",
      "\n",
      "Album, Artist, Customer, Employee, Genre, Invoice, InvoiceLine, MediaType, Playlist, PlaylistTrack, Track\n",
      "==================================\u001b[1m Ai Message \u001b[0m==================================\n",
      "Tool Calls:\n",
      "  sql_db_schema (call_11e127a668724e28a4d7bccall_11e127a668724e28a4d7bccall_11e127a668724e28a4d7bccall_11e127a668724e28a4d7bc)\n",
      " Call ID: call_11e127a668724e28a4d7bccall_11e127a668724e28a4d7bccall_11e127a668724e28a4d7bccall_11e127a668724e28a4d7bc\n",
      "  Args:\n",
      "    table_names: Album\n",
      "=================================\u001b[1m Tool Message \u001b[0m=================================\n",
      "Name: sql_db_schema\n",
      "\n",
      "\n",
      "CREATE TABLE \"Album\" (\n",
      "\t\"AlbumId\" INTEGER NOT NULL, \n",
      "\t\"Title\" NVARCHAR(160) NOT NULL, \n",
      "\t\"ArtistId\" INTEGER NOT NULL, \n",
      "\tPRIMARY KEY (\"AlbumId\"), \n",
      "\tFOREIGN KEY(\"ArtistId\") REFERENCES \"Artist\" (\"ArtistId\")\n",
      ")\n",
      "\n",
      "/*\n",
      "3 rows from Album table:\n",
      "AlbumId\tTitle\tArtistId\n",
      "1\tFor Those About To Rock We Salute You\t1\n",
      "2\tBalls to the Wall\t2\n",
      "3\tRestless and Wild\t2\n",
      "*/\n",
      "==================================\u001b[1m Ai Message \u001b[0m==================================\n",
      "Tool Calls:\n",
      "  sql_db_schema (call_a26bf6366e2d4389bcfa5fcall_a26bf6366e2d4389bcfa5fcall_a26bf6366e2d4389bcfa5fcall_a26bf6366e2d4389bcfa5f)\n",
      " Call ID: call_a26bf6366e2d4389bcfa5fcall_a26bf6366e2d4389bcfa5fcall_a26bf6366e2d4389bcfa5fcall_a26bf6366e2d4389bcfa5f\n",
      "  Args:\n",
      "    table_names: Artist\n",
      "=================================\u001b[1m Tool Message \u001b[0m=================================\n",
      "Name: sql_db_schema\n",
      "\n",
      "\n",
      "CREATE TABLE \"Artist\" (\n",
      "\t\"ArtistId\" INTEGER NOT NULL, \n",
      "\t\"Name\" NVARCHAR(120), \n",
      "\tPRIMARY KEY (\"ArtistId\")\n",
      ")\n",
      "\n",
      "/*\n",
      "3 rows from Artist table:\n",
      "ArtistId\tName\n",
      "1\tAC/DC\n",
      "2\tAccept\n",
      "3\tAerosmith\n",
      "*/\n",
      "==================================\u001b[1m Ai Message \u001b[0m==================================\n",
      "Tool Calls:\n",
      "  sql_db_query_checker (call_49050912013046d281866bcall_49050912013046d281866bcall_49050912013046d281866bcall_49050912013046d281866bcall_49050912013046d281866bcall_49050912013046d281866bcall_49050912013046d281866bcall_49050912013046d281866bcall_49050912013046d281866b)\n",
      " Call ID: call_49050912013046d281866bcall_49050912013046d281866bcall_49050912013046d281866bcall_49050912013046d281866bcall_49050912013046d281866bcall_49050912013046d281866bcall_49050912013046d281866bcall_49050912013046d281866bcall_49050912013046d281866b\n",
      "  Args:\n",
      "    query: SELECT COUNT(*) FROM Album WHERE ArtistId = (SELECT ArtistId FROM Artist WHERE Name = 'Alis in chain')\n",
      "=================================\u001b[1m Tool Message \u001b[0m=================================\n",
      "Name: sql_db_query_checker\n",
      "\n",
      "```sql\n",
      "SELECT COUNT(*) \n",
      "FROM Album \n",
      "WHERE ArtistId = (SELECT ArtistId \n",
      "                  FROM Artist \n",
      "                  WHERE Name = 'Alis in chain');\n",
      "```\n",
      "==================================\u001b[1m Ai Message \u001b[0m==================================\n",
      "Tool Calls:\n",
      "  search_proper_nouns (call_871f73919f0c4b37b04796call_871f73919f0c4b37b04796call_871f73919f0c4b37b04796call_871f73919f0c4b37b04796)\n",
      " Call ID: call_871f73919f0c4b37b04796call_871f73919f0c4b37b04796call_871f73919f0c4b37b04796call_871f73919f0c4b37b04796\n",
      "  Args:\n",
      "    query: Alis in chain\n",
      "=================================\u001b[1m Tool Message \u001b[0m=================================\n",
      "Name: search_proper_nouns\n",
      "\n",
      "Alice In Chains\n",
      "\n",
      "Elis Regina\n",
      "\n",
      "Alanis Morissette\n",
      "\n",
      "Surfing with the Alien (Remastered)\n",
      "\n",
      "Cássia Eller - Coleção Sem Limite [Disc ]\n",
      "==================================\u001b[1m Ai Message \u001b[0m==================================\n",
      "Tool Calls:\n",
      "  sql_db_query (call_6e99daab2af14a099d545dcall_6e99daab2af14a099d545dcall_6e99daab2af14a099d545dcall_6e99daab2af14a099d545dcall_6e99daab2af14a099d545dcall_6e99daab2af14a099d545dcall_6e99daab2af14a099d545dcall_6e99daab2af14a099d545dcall_6e99daab2af14a099d545d)\n",
      " Call ID: call_6e99daab2af14a099d545dcall_6e99daab2af14a099d545dcall_6e99daab2af14a099d545dcall_6e99daab2af14a099d545dcall_6e99daab2af14a099d545dcall_6e99daab2af14a099d545dcall_6e99daab2af14a099d545dcall_6e99daab2af14a099d545dcall_6e99daab2af14a099d545d\n",
      "  Args:\n",
      "    query: SELECT COUNT(*) FROM Album WHERE ArtistId = (SELECT ArtistId FROM Artist WHERE Name = 'Alice In Chains')\n",
      "=================================\u001b[1m Tool Message \u001b[0m=================================\n",
      "Name: sql_db_query\n",
      "\n",
      "[(1,)]\n",
      "==================================\u001b[1m Ai Message \u001b[0m==================================\n",
      "\n",
      "Alice In Chains 有1张专辑。\n"
     ]
    }
   ],
   "source": [
    "question = \"Alis in chain 有多少张专辑?\"\n",
    "\n",
    "for step in agent.stream(\n",
    "    {\"messages\": [{\"role\": \"user\", \"content\": question}]},\n",
    "    stream_mode=\"values\",\n",
    "):\n",
    "    step[\"messages\"][-1].pretty_print()"
   ]
  },
  {
   "cell_type": "code",
   "execution_count": null,
   "id": "e8826cdc-aef5-43e5-be42-95df272aa15a",
   "metadata": {},
   "outputs": [],
   "source": []
  }
 ],
 "metadata": {
  "kernelspec": {
   "display_name": "Python 3 (ipykernel)",
   "language": "python",
   "name": "python3"
  },
  "language_info": {
   "codemirror_mode": {
    "name": "ipython",
    "version": 3
   },
   "file_extension": ".py",
   "mimetype": "text/x-python",
   "name": "python",
   "nbconvert_exporter": "python",
   "pygments_lexer": "ipython3",
   "version": "3.11.13"
  }
 },
 "nbformat": 4,
 "nbformat_minor": 5
}
