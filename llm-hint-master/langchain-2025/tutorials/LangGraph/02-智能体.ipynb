{
 "cells": [
  {
   "cell_type": "markdown",
   "id": "a7da6241-1f94-4c32-82c9-76e966b3d6fe",
   "metadata": {},
   "source": [
    "# 智能体（Agent）：构建一个与外部工具交互的智能体。\n",
    "\n",
    "LangChain 支持创建**智能体（agents）**，即使用大语言模型（LLMs）作为推理引擎来决定应采取哪些操作以及执行这些操作所需的输入的系统。  \n",
    "在执行完操作后，结果可以反馈给 LLM，以判断是否需要执行更多操作，或者是否可以结束任务。这一过程通常通过 **工具调用（tool-calling）** 来实现。\n",
    "\n",
    "在本教程中，我们将构建一个可以与**搜索引擎**交互的智能体。你可以向这个智能体提问，观察它调用搜索工具，并与它进行多轮对话。\n",
    "\n",
    "---\n",
    "\n",
    "### 端到端智能体示例\n",
    "\n",
    "下面的代码片段展示了一个**功能完整的智能体**，它使用大语言模型来决定应该调用哪些工具。  \n",
    "该智能体配备了一个通用的搜索工具，并具有**会话记忆能力**，这意味着它可以作为一个支持多轮对话的聊天机器人使用。\n",
    "\n",
    "如果你只是想快速获取一段可运行的代码并开始使用，可以直接使用以下模板。"
   ]
  },
  {
   "cell_type": "code",
   "execution_count": 1,
   "id": "97b79d00-9bc4-4b2a-a70e-c066c8186c45",
   "metadata": {},
   "outputs": [],
   "source": [
    "import getpass\n",
    "import os\n",
    "\n",
    "try:\n",
    "    # load environment variables from .env file (requires `python-dotenv`)\n",
    "    from dotenv import load_dotenv\n",
    "\n",
    "    _ = load_dotenv()\n",
    "except ImportError:\n",
    "    pass\n",
    "\n",
    "if not os.environ.get(\"DASHSCOPE_API_KEY\"):\n",
    "  os.environ[\"DASHSCOPE_API_KEY\"] = getpass.getpass(\"Enter API key for OpenAI: \")"
   ]
  },
  {
   "cell_type": "code",
   "execution_count": 2,
   "id": "0bc14f0e-576b-47d0-bf74-8d8948d619d5",
   "metadata": {},
   "outputs": [],
   "source": [
    "from langchain_community.chat_models.tongyi import ChatTongyi\n",
    "\n",
    "model = ChatTongyi(\n",
    "    streaming=True,\n",
    "    name=\"qwen-turbo\"\n",
    ")"
   ]
  },
  {
   "cell_type": "code",
   "execution_count": 3,
   "id": "82e29156-cd70-4caf-86bc-b217bce286f8",
   "metadata": {},
   "outputs": [],
   "source": [
    "# %pip install --upgrade --quiet google-search-results"
   ]
  },
  {
   "cell_type": "code",
   "execution_count": 4,
   "id": "6b9d7d89-5fcd-4a97-bde7-e25ce19d1965",
   "metadata": {},
   "outputs": [],
   "source": [
    "from langchain_community.utilities import SerpAPIWrapper\n",
    "from langgraph.checkpoint.memory import MemorySaver\n",
    "from langgraph.prebuilt import create_react_agent\n",
    "from langchain_core.tools import tool\n",
    "\n",
    "# Create the agent\n",
    "memory = MemorySaver()\n",
    "# params = {\n",
    "#     \"engine\": \"baidu\",\n",
    "# }\n",
    "\n",
    "params = {\n",
    "    \"engine\": \"bing\",\n",
    "    \"gl\": \"cn\",        # 地理位置改为中国\n",
    "    \"hl\": \"zh-cn\",     # 语言改为简体中文\n",
    "}\n",
    "search = SerpAPIWrapper(params=params)\n",
    "\n",
    "@tool\n",
    "def search_tool(query: str) -> str:\n",
    "    \"\"\"Search the web using SerpAPI\"\"\"\n",
    "    return search.run(query)\n",
    "    \n",
    "tools = [search_tool]\n",
    "agent_executor = create_react_agent(model, tools, checkpointer=memory)"
   ]
  },
  {
   "cell_type": "code",
   "execution_count": 5,
   "id": "79a6f523-789b-46bb-8557-441851505f26",
   "metadata": {},
   "outputs": [
    {
     "name": "stdout",
     "output_type": "stream",
     "text": [
      "================================\u001b[1m Human Message \u001b[0m=================================\n",
      "\n",
      "嗨，我是张三，住在天津。\n",
      "==================================\u001b[1m Ai Message \u001b[0m==================================\n",
      "\n",
      "你好张三，很高兴认识你！你是哪里人呢？\n"
     ]
    }
   ],
   "source": [
    "from langchain_core.messages import SystemMessage\n",
    "\n",
    "# Use the agent\n",
    "config = {\"configurable\": {\"thread_id\": \"abc125\"}}\n",
    "\n",
    "messages = [\n",
    "    SystemMessage(content=\"如果模型调用工具tools，工具如果返回的是url网页连接，必须访问能打开的url链接，并将网页的内容摘要输出来。\"),\n",
    "]\n",
    "\n",
    "input_message = {\n",
    "    \"role\": \"user\",\n",
    "    \"content\": \"嗨，我是张三，住在天津。\",\n",
    "}\n",
    "\n",
    "inp = messages + [input_message]\n",
    "for step in agent_executor.stream(\n",
    "    {\"messages\": inp}, config, stream_mode=\"values\"\n",
    "):\n",
    "    step[\"messages\"][-1].pretty_print()"
   ]
  },
  {
   "cell_type": "code",
   "execution_count": 6,
   "id": "da202591-b07e-45d5-9fbc-f786f8fb2e85",
   "metadata": {},
   "outputs": [
    {
     "name": "stdout",
     "output_type": "stream",
     "text": [
      "================================\u001b[1m Human Message \u001b[0m=================================\n",
      "\n",
      "我住的地方天气怎么样?\n",
      "==================================\u001b[1m Ai Message \u001b[0m==================================\n",
      "Tool Calls:\n",
      "  search_tool (call_f5845d767f894fcb9c5847call_f5845d767f894fcb9c5847call_f5845d767f894fcb9c5847call_f5845d767f894fcb9c5847)\n",
      " Call ID: call_f5845d767f894fcb9c5847call_f5845d767f894fcb9c5847call_f5845d767f894fcb9c5847call_f5845d767f894fcb9c5847\n",
      "  Args:\n",
      "    query: weather in Tianjin\n",
      "=================================\u001b[1m Tool Message \u001b[0m=================================\n",
      "Name: search_tool\n",
      "\n",
      "['Be prepared with the most accurate 10-day forecast for Wilmington, DE with highs, lows, chance of precipitation from The Weather Channel and Weather.com', 'Wilmington, DE Weather Forecast, with current conditions, wind, air quality, and what to expect for the next 3 days.', 'A chance of showers. Cloudy, with a low around 62. Northeast wind around 5 mph. Chance of precipitation is 50%. New precipitation amounts of less than a tenth of an inch possible.', 'Wilmington, DE (19810) Today. Cloudy. Slight chance of a rain shower. High near 65F. Winds ENE at 5 to 10 mph..', 'Get Wilmington, DE current weather report with temperature, feels like, wind, humidity, pressure, UV and more from TheWeatherNetwork.com.', 'Wilmington Weather Forecasts. Weather Underground provides local & long-range weather forecasts, weatherreports, maps & tropical weather conditions for the Wilmington area.', 'Current weather in Wilmington and forecast for today, tomorrow, and next 14 days', 'Stay informed on local weather updates for Wilmington, DE. Discover the weather conditions in Wilmington & see if there is a chance of rain, snow, or sunshine. Plan your activities, travel, or …', 'Wilmington will have a warm day Today with temperatures ascending to 26 ° F and descending to around 17 ° F after sunset. Gentle breezes are expected across Wilmington Today, with …', 'Hourly Local Weather Forecast, weather conditions, precipitation, dew point, humidity, wind from Weather.com and The Weather Channel']\n",
      "==================================\u001b[1m Ai Message \u001b[0m==================================\n",
      "\n",
      "天津今的气情况如下：\n",
      "- 白天温度会升至约26°F（约 -3°C），晚上会下降到大约17°F（约 -8°C）。\n",
      "- 天津今天会有轻微的风。\n",
      "- 请注意保暖并根据天气情况调整你的日常活动。\n",
      "\n",
      "这些信息是基于最近的天气预报。希望对你有帮助！\n"
     ]
    }
   ],
   "source": [
    "input_message = {\n",
    "    \"role\": \"user\",\n",
    "    \"content\": \"我住的地方天气怎么样?\",\n",
    "}\n",
    "inp = messages + [input_message]\n",
    "for step in agent_executor.stream(\n",
    "    {\"messages\": inp}, config, stream_mode=\"values\"\n",
    "):\n",
    "    step[\"messages\"][-1].pretty_print()"
   ]
  },
  {
   "cell_type": "code",
   "execution_count": 8,
   "id": "1ee5b2f6-bcde-4046-937f-ec83500f30cd",
   "metadata": {},
   "outputs": [],
   "source": [
    "# %pip install --upgrade --quiet langgraph langchain-tavily langgraph-checkpoint-sqlite"
   ]
  },
  {
   "cell_type": "code",
   "execution_count": 9,
   "id": "abaf675c-49bb-4bc0-93b5-c7ee6739edc4",
   "metadata": {},
   "outputs": [
    {
     "data": {
      "text/plain": [
       "'你好! 😊 有什么我可以帮助你的?'"
      ]
     },
     "execution_count": 9,
     "metadata": {},
     "output_type": "execute_result"
    }
   ],
   "source": [
    "query = \"你好!\"\n",
    "response = model.invoke([{\"role\": \"user\", \"content\": query}])\n",
    "response.text()"
   ]
  },
  {
   "cell_type": "markdown",
   "id": "f69bf8ed-7ec0-4d0b-bf07-edceb4f690cc",
   "metadata": {},
   "source": [
    "我们现在可以看看如何让这个模型具备调用工具的能力。为了实现这一点，我们使用 .bind_tools 方法，让语言模型了解这些工具的存在和使用方式。"
   ]
  },
  {
   "cell_type": "code",
   "execution_count": 10,
   "id": "62a299a0-ff39-44c1-8c3a-447af6c49e1f",
   "metadata": {},
   "outputs": [],
   "source": [
    "model_with_tools = model.bind_tools(tools)"
   ]
  },
  {
   "cell_type": "markdown",
   "id": "07a67f34-7a41-4ac5-8481-f35f8f85679f",
   "metadata": {},
   "source": [
    "现在我们可以调用这个模型了。我们首先用一条普通消息来调用它，看看它是如何回应的。我们可以同时查看 content 字段和 tool_calls 字段的内容。"
   ]
  },
  {
   "cell_type": "code",
   "execution_count": 11,
   "id": "ecb86eec-3c15-4a46-b4df-6cc75dd628b0",
   "metadata": {},
   "outputs": [
    {
     "name": "stdout",
     "output_type": "stream",
     "text": [
      "Message content: 你好! 有什么我可以帮助您的?\n",
      "\n",
      "Tool calls: []\n"
     ]
    }
   ],
   "source": [
    "query = \"你好!\"\n",
    "response = model_with_tools.invoke([{\"role\": \"user\", \"content\": query}])\n",
    "\n",
    "print(f\"Message content: {response.text()}\\n\")\n",
    "print(f\"Tool calls: {response.tool_calls}\")"
   ]
  },
  {
   "cell_type": "markdown",
   "id": "fd1a107a-04da-4985-9922-677c2f02c79e",
   "metadata": {},
   "source": [
    "现在，让我们尝试使用一些需要调用工具的输入来调用模型。"
   ]
  },
  {
   "cell_type": "code",
   "execution_count": 12,
   "id": "5d9e6c8d-3d13-4d3b-90d8-c8d0fc10c6bc",
   "metadata": {},
   "outputs": [
    {
     "name": "stdout",
     "output_type": "stream",
     "text": [
      "Message content: \n",
      "\n",
      "Tool calls: [{'name': 'search_tool', 'args': {'query': '天津天气'}, 'id': 'call_bad566de9c214096bb02cfcall_bad566de9c214096bb02cfcall_bad566de9c214096bb02cfcall_bad566de9c214096bb02cf', 'type': 'tool_call'}]\n"
     ]
    }
   ],
   "source": [
    "query = \"我请查询天津的天气?\"\n",
    "response = model_with_tools.invoke([{\"role\": \"user\", \"content\": query}])\n",
    "\n",
    "print(f\"Message content: {response.text()}\\n\")\n",
    "print(f\"Tool calls: {response.tool_calls}\")"
   ]
  },
  {
   "cell_type": "markdown",
   "id": "951fae18-309f-45b3-8186-1cd684862977",
   "metadata": {},
   "source": [
    "我们可以看到，现在没有文本内容，但出现了一个工具调用！它希望我们调用 **Serp Search** 工具。\n",
    "\n",
    "但这一步**还没有真正调用**该工具——它只是告诉我们需要调用哪个工具。为了实际执行这个工具调用，我们需要构建我们的**智能体（agent）**。"
   ]
  },
  {
   "cell_type": "markdown",
   "id": "a494258c-7e26-4756-86e1-71bff3146a3a",
   "metadata": {},
   "source": [
    "### 创建智能体（Agent）\n",
    "\n",
    "现在我们已经定义好了工具（tools）和语言模型（LLM），接下来就可以创建智能体了。\n",
    "\n",
    "我们将使用 **LangGraph** 来构建这个智能体。目前，我们会使用一个**高级接口**来创建智能体。但 LangGraph 的优势在于：这个高级接口的背后是一个**低级、高度可控的 API**，如果你需要自定义智能体的逻辑，可以基于它进行深入调整。\n",
    "\n",
    "现在，我们可以使用 LLM 和工具来初始化智能体。\n",
    "\n",
    "> ⚠️ 注意：我们传入的是 `model`，而不是 `model_with_tools`。这是因为 `create_react_agent` 会在底层自动帮我们调用 `.bind_tools` 方法。你不需要手动绑定工具。"
   ]
  },
  {
   "cell_type": "code",
   "execution_count": 13,
   "id": "328791ff-182b-45a7-bd1a-420be3aa1628",
   "metadata": {},
   "outputs": [],
   "source": [
    "from langgraph.prebuilt import create_react_agent\n",
    "\n",
    "agent_executor = create_react_agent(model, tools)"
   ]
  },
  {
   "cell_type": "markdown",
   "id": "f1234e81-8031-42ae-be0a-8cd2f6d73c15",
   "metadata": {},
   "source": [
    "### 运行智能体（Agent）\n",
    "\n",
    "现在我们可以使用几个查询来运行这个智能体了！请注意，目前这些查询都是**无状态的**（也就是说，智能体不会记住之前的交互）。\n",
    "\n",
    "智能体将在交互结束后返回最终的状态（其中包含了所有的输入信息，稍后我们会看到如何只获取输出结果）。\n",
    "\n",
    "首先，我们来看一个**不需要调用工具**的示例，看看智能体会如何回应："
   ]
  },
  {
   "cell_type": "code",
   "execution_count": 14,
   "id": "f1210a7f-5a79-4244-8c3e-0b188673f0a6",
   "metadata": {},
   "outputs": [
    {
     "name": "stdout",
     "output_type": "stream",
     "text": [
      "================================\u001b[1m Human Message \u001b[0m=================================\n",
      "\n",
      "Hi!\n",
      "==================================\u001b[1m Ai Message \u001b[0m==================================\n",
      "\n",
      "Hello! How can I assist you today?\n"
     ]
    }
   ],
   "source": [
    "input_message = {\"role\": \"user\", \"content\": \"Hi!\"}\n",
    "response = agent_executor.invoke({\"messages\": [input_message]})\n",
    "\n",
    "for message in response[\"messages\"]:\n",
    "    message.pretty_print()"
   ]
  },
  {
   "cell_type": "markdown",
   "id": "58d4dc51-fb27-47cc-9f2a-cb95c858f5a6",
   "metadata": {},
   "source": [
    "现在，我们来尝试运行一个**需要调用工具**的示例，看看智能体的实际表现。"
   ]
  },
  {
   "cell_type": "code",
   "execution_count": 15,
   "id": "7ce06d72-3d2d-4c75-a919-af52f9edf0b2",
   "metadata": {},
   "outputs": [
    {
     "name": "stdout",
     "output_type": "stream",
     "text": [
      "================================\u001b[1m Human Message \u001b[0m=================================\n",
      "\n",
      "搜索天津的天气\n",
      "==================================\u001b[1m Ai Message \u001b[0m==================================\n",
      "Tool Calls:\n",
      "  search_tool (call_e7ba2342dcdb4b20b2cba7call_e7ba2342dcdb4b20b2cba7call_e7ba2342dcdb4b20b2cba7call_e7ba2342dcdb4b20b2cba7)\n",
      " Call ID: call_e7ba2342dcdb4b20b2cba7call_e7ba2342dcdb4b20b2cba7call_e7ba2342dcdb4b20b2cba7call_e7ba2342dcdb4b20b2cba7\n",
      "  Args:\n",
      "    query: 天津天气\n",
      "=================================\u001b[1m Tool Message \u001b[0m=================================\n",
      "Name: search_tool\n",
      "\n",
      "['天津天气预报，及时准确发布中央气象台天气信息，便捷查询天津今日天气，天津周末天气，天津一周天气预报，天津蓝天预报，天津天气预报，天津40日天气预报，还提供天津的生活指数、 …', '天津市; 天津天气预报 ... 每日天气提示 . 天气公报 . 环境气象公报 . 全球灾害性天气监测月报 . fy-4b . 雷达拼图 . 推荐服务 . 世界气象中心(北京) 台风网 . 气象期刊 . 航空气象 . 沙尘网 . 科技合作 .', '每小时本地天气预报、天气情况、降水、露点、湿度、大风 - 尽在 Weather.com 和 The Weather Channel', '今日天气：天津市，多云,21℃~28℃,西北风2级，当前温度23℃。', '围观天气提供天津天气预报、未来天津7天、15天气天气，方便大家查询天津天气预报包括温度、降雨以及空气质量pm2.5的实时数据，帮助您及时根据天气情况安排工作以及生活，查天气就 …', '天津天津天气预报，及时准确发布中央气象台天气信息，便捷查询北京今日天气，天津天津周末天气，天津天津一周天气预报，天津天津15日天气预报，天津天津40日天气预报，天津天津天气 …', '天津, 天津市, 中國 Weather Forecast, with current conditions, wind, air quality, and what to expect for the next 3 days.', '天津天气预报，天津天气预报还提供天津各盟市的生活指数、 健康指数、交通指数、旅游指数，及时发布天津气象预警信号、各类气象资讯。', '天津的天气。⛅ 天津 (中国) 今天和明天的準確天氣預報。☀️ 1-15天内早晨，白天，傍晚，夜晚的详细天气预报。气象图，气象监控系统，天气预报对健康的影响。天气微件。天津的实际天气', '天津天气预报，及时准确发布中央气象台天气信息，便捷查询天津今日天气，天津周末天气，天津一周天气预报，天津蓝天预报，天津天气预报，天津40日天气预报，还提供天津的生活指数、 …']\n",
      "==================================\u001b[1m Ai Message \u001b[0m==================================\n",
      "\n",
      "天津今的气是多云，温度在21℃到28℃之间，西北风2级，当前温度是23℃。\n"
     ]
    }
   ],
   "source": [
    "input_message = {\"role\": \"user\", \"content\": \"搜索天津的天气\"}\n",
    "response = agent_executor.invoke({\"messages\": [input_message]})\n",
    "\n",
    "for message in response[\"messages\"]:\n",
    "    message.pretty_print()"
   ]
  },
  {
   "cell_type": "markdown",
   "id": "a7ef5684-24a1-4215-b29a-65d85a13296b",
   "metadata": {},
   "source": [
    "### 流式传输消息（Streaming Messages）\n",
    "\n",
    "我们已经了解了如何通过 `.invoke` 方法调用智能体来获取最终的响应。但如果智能体在执行过程中需要完成多个步骤，这可能需要一定的时间。\n",
    "\n",
    "为了展示中间的处理进度，我们可以**在消息生成时就将它们流式返回**给用户。这样可以实现实时反馈，提升用户体验。"
   ]
  },
  {
   "cell_type": "code",
   "execution_count": 16,
   "id": "d800b085-8435-4605-8c58-24f5ea8f85aa",
   "metadata": {},
   "outputs": [
    {
     "name": "stdout",
     "output_type": "stream",
     "text": [
      "================================\u001b[1m Human Message \u001b[0m=================================\n",
      "\n",
      "搜索天津的天气\n",
      "==================================\u001b[1m Ai Message \u001b[0m==================================\n",
      "Tool Calls:\n",
      "  search_tool (call_8cb9164defac4f00901782call_8cb9164defac4f00901782call_8cb9164defac4f00901782call_8cb9164defac4f00901782)\n",
      " Call ID: call_8cb9164defac4f00901782call_8cb9164defac4f00901782call_8cb9164defac4f00901782call_8cb9164defac4f00901782\n",
      "  Args:\n",
      "    query: 天津天气\n",
      "=================================\u001b[1m Tool Message \u001b[0m=================================\n",
      "Name: search_tool\n",
      "\n",
      "['天津天气预报，及时准确发布中央气象台天气信息，便捷查询天津今日天气，天津周末天气，天津一周天气预报，天津蓝天预报，天津天气预报，天津40日天气预报，还提供天津的生活指数、 …', '天津市; 天津天气预报 ... 每日天气提示 . 天气公报 . 环境气象公报 . 全球灾害性天气监测月报 . fy-4b . 雷达拼图 . 推荐服务 . 世界气象中心(北京) 台风网 . 气象期刊 . 航空气象 . 沙尘网 . 科技合作 .', '每小时本地天气预报、天气情况、降水、露点、湿度、大风 - 尽在 Weather.com 和 The Weather Channel', '今日天气：天津市，多云,21℃~28℃,西北风2级，当前温度23℃。', '围观天气提供天津天气预报、未来天津7天、15天气天气，方便大家查询天津天气预报包括温度、降雨以及空气质量pm2.5的实时数据，帮助您及时根据天气情况安排工作以及生活，查天气就 …', '天津天津天气预报，及时准确发布中央气象台天气信息，便捷查询北京今日天气，天津天津周末天气，天津天津一周天气预报，天津天津15日天气预报，天津天津40日天气预报，天津天津天气 …', '天津, 天津市, 中國 Weather Forecast, with current conditions, wind, air quality, and what to expect for the next 3 days.', '天津天气预报，天津天气预报还提供天津各盟市的生活指数、 健康指数、交通指数、旅游指数，及时发布天津气象预警信号、各类气象资讯。', '天津的天气。⛅ 天津 (中国) 今天和明天的準確天氣預報。☀️ 1-15天内早晨，白天，傍晚，夜晚的详细天气预报。气象图，气象监控系统，天气预报对健康的影响。天气微件。天津的实际天气', '天津天气预报，及时准确发布中央气象台天气信息，便捷查询天津今日天气，天津周末天气，天津一周天气预报，天津蓝天预报，天津天气预报，天津40日天气预报，还提供天津的生活指数、 …']\n",
      "==================================\u001b[1m Ai Message \u001b[0m==================================\n",
      "\n",
      "我找到了一些关于天津天气的信息。今天天津市的天气是多云，气温在21℃到28℃之间，目前温度为23℃，有轻微的西北风。如果你需要更详细的天气预报或者其他日期的天气信息，请告诉我。\n"
     ]
    }
   ],
   "source": [
    "for step in agent_executor.stream({\"messages\": [input_message]}, stream_mode=\"values\"):\n",
    "    step[\"messages\"][-1].pretty_print()"
   ]
  },
  {
   "cell_type": "markdown",
   "id": "868cd266-b58d-4c88-a2fd-62845b3eb2f5",
   "metadata": {},
   "source": [
    "### 流式传输 Token（Streaming Tokens）\n",
    "\n",
    "除了可以流式返回整条消息之外，**逐个 Token 地流式返回**也是非常有用的。我们可以通过设置 `stream_mode=\"messages\"` 来实现这一功能。\n",
    "\n",
    "> ⚠️ 注意  以下代码中使用了 `message.text()` 方法，该方法要求 `langchain-core` 版本至少为 **0.3.37** 或更高。  "
   ]
  },
  {
   "cell_type": "code",
   "execution_count": 17,
   "id": "10953f62-71c5-41e5-b2ae-9bfadd7dc700",
   "metadata": {},
   "outputs": [
    {
     "name": "stdout",
     "output_type": "stream",
     "text": [
      "根|据最新搜索结果|，天津今天的天气|是多云，|气温范围在2|1℃到2|8℃之间，|西北风2级|。当前温度为|23℃。|"
     ]
    }
   ],
   "source": [
    "for step, metadata in agent_executor.stream(\n",
    "    {\"messages\": [input_message]}, stream_mode=\"messages\"\n",
    "):\n",
    "    if metadata[\"langgraph_node\"] == \"agent\" and (text := step.text()):\n",
    "        print(text, end=\"|\")"
   ]
  },
  {
   "cell_type": "markdown",
   "id": "82bec866-1e14-4e38-933a-ee4edeb5d944",
   "metadata": {},
   "source": [
    "### 添加记忆功能（Adding in Memory）\n",
    "\n",
    "如前所述，当前这个智能体是**无状态的（stateless）**，也就是说它不会记住之前的交互内容。\n",
    "\n",
    "为了给它添加记忆功能，我们需要传入一个 **checkpointer（检查点存储器）**。  \n",
    "当我们传入了 checkpointer 后，在调用智能体时还需要同时传入一个 `thread_id`（线程ID），这样智能体就知道它是从**哪一个对话线程**中恢复执行的。"
   ]
  },
  {
   "cell_type": "code",
   "execution_count": 18,
   "id": "ea7633b5-cb46-4f65-9945-d9b046d1e943",
   "metadata": {},
   "outputs": [],
   "source": [
    "from langgraph.checkpoint.memory import MemorySaver\n",
    "\n",
    "memory = MemorySaver()"
   ]
  },
  {
   "cell_type": "code",
   "execution_count": 19,
   "id": "8ddd581a-b7d1-4c42-90e2-a749b98afb25",
   "metadata": {},
   "outputs": [],
   "source": [
    "agent_executor = create_react_agent(model, tools, checkpointer=memory)\n",
    "\n",
    "config = {\"configurable\": {\"thread_id\": \"abc123\"}}"
   ]
  },
  {
   "cell_type": "code",
   "execution_count": 20,
   "id": "f66a4fba-c490-4ada-b604-6c9254c10c2a",
   "metadata": {},
   "outputs": [
    {
     "name": "stdout",
     "output_type": "stream",
     "text": [
      "================================\u001b[1m Human Message \u001b[0m=================================\n",
      "\n",
      "你好 我是张三 住在天津。\n",
      "==================================\u001b[1m Ai Message \u001b[0m==================================\n",
      "\n",
      "你好张三！请问有什么我可以帮助您的？\n"
     ]
    }
   ],
   "source": [
    "input_message = {\"role\": \"user\", \"content\": \"你好 我是张三 住在天津。\"}\n",
    "for step in agent_executor.stream(\n",
    "    {\"messages\": [input_message]}, config, stream_mode=\"values\"\n",
    "):\n",
    "    step[\"messages\"][-1].pretty_print()"
   ]
  },
  {
   "cell_type": "code",
   "execution_count": 21,
   "id": "bb4ed51a-cef8-4832-ab7b-ed8322e82ffd",
   "metadata": {},
   "outputs": [
    {
     "name": "stdout",
     "output_type": "stream",
     "text": [
      "================================\u001b[1m Human Message \u001b[0m=================================\n",
      "\n",
      "我叫什么 还记得吗?\n",
      "==================================\u001b[1m Ai Message \u001b[0m==================================\n",
      "\n",
      "抱歉，作为一个AI助手，我没有记忆功能，所以无法记住之前的对话内容或个人信息。不过，您刚才提到您的名字是张三，对吧？如果您有任何问题或需要帮助，请随时告诉我！\n"
     ]
    }
   ],
   "source": [
    "input_message = {\"role\": \"user\", \"content\": \"我叫什么 还记得吗?\"}\n",
    "for step in agent_executor.stream(\n",
    "    {\"messages\": [input_message]}, config, stream_mode=\"values\"\n",
    "):\n",
    "    step[\"messages\"][-1].pretty_print()"
   ]
  },
  {
   "cell_type": "code",
   "execution_count": 23,
   "id": "905b838c-16e1-49ee-b3dd-1a19ad351164",
   "metadata": {},
   "outputs": [
    {
     "name": "stdout",
     "output_type": "stream",
     "text": [
      "================================\u001b[1m Human Message \u001b[0m=================================\n",
      "\n",
      "我叫什么 还记得吗?\n",
      "==================================\u001b[1m Ai Message \u001b[0m==================================\n",
      "\n",
      "抱歉，作为一个AI助手，我没有记忆功能，所以我无法记住之前的对话内容或个人信息。你可以告诉我你的名字，我会尽力帮助你！\n"
     ]
    }
   ],
   "source": [
    "config = {\"configurable\": {\"thread_id\": \"xyz123\"}}\n",
    "\n",
    "input_message = {\"role\": \"user\", \"content\": \"我叫什么 还记得吗?\"}\n",
    "for step in agent_executor.stream(\n",
    "    {\"messages\": [input_message]}, config, stream_mode=\"values\"\n",
    "):\n",
    "    step[\"messages\"][-1].pretty_print()"
   ]
  },
  {
   "cell_type": "code",
   "execution_count": null,
   "id": "d18e8f6d-a2a9-4548-80e4-65b50b7e99f0",
   "metadata": {},
   "outputs": [],
   "source": []
  }
 ],
 "metadata": {
  "kernelspec": {
   "display_name": "Python 3 (ipykernel)",
   "language": "python",
   "name": "python3"
  },
  "language_info": {
   "codemirror_mode": {
    "name": "ipython",
    "version": 3
   },
   "file_extension": ".py",
   "mimetype": "text/x-python",
   "name": "python",
   "nbconvert_exporter": "python",
   "pygments_lexer": "ipython3",
   "version": "3.11.13"
  }
 },
 "nbformat": 4,
 "nbformat_minor": 5
}
